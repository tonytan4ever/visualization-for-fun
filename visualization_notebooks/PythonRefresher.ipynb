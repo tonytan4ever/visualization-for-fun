{
  "cells": [
    {
      "cell_type": "markdown",
      "metadata": {
        "id": "view-in-github",
        "colab_type": "text"
      },
      "source": [
        "<a href=\"https://colab.research.google.com/github/tonytan4ever/visualization-for-fun/blob/main/visualization_notebooks/PythonRefresher.ipynb\" target=\"_parent\"><img src=\"https://colab.research.google.com/assets/colab-badge.svg\" alt=\"Open In Colab\"/></a>"
      ]
    },
    {
      "cell_type": "markdown",
      "metadata": {
        "id": "TD0Y2H9-cyiY"
      },
      "source": [
        "# A Python refresher\n",
        "\n",
        "If you're new to Python, I would recommend going to the section 5 of the course to get a better introduction to Python. This section is intended to refresh your memory in case you already know Python but haven't used it in a while. I'll mostly focus on aspects of Python that will be used in the upcoming sections. Note this is not a comprehensive refresher on Python."
      ]
    },
    {
      "cell_type": "markdown",
      "metadata": {
        "id": "tcRbP20ydsYh"
      },
      "source": [
        "## Defining variables\n",
        "\n",
        "Python is a dynamically typed language. This means that defining variables does not involve mentioning the \"type\" of the variable. You just assign a value to a variable and that's that."
      ]
    },
    {
      "cell_type": "code",
      "execution_count": null,
      "metadata": {
        "id": "Yww_W44ZdpEG"
      },
      "outputs": [],
      "source": [
        "a = 4"
      ]
    },
    {
      "cell_type": "code",
      "execution_count": null,
      "metadata": {
        "id": "HDOdhsgfd7c7"
      },
      "outputs": [],
      "source": [
        "b = 5"
      ]
    },
    {
      "cell_type": "code",
      "execution_count": null,
      "metadata": {
        "colab": {
          "base_uri": "https://localhost:8080/"
        },
        "id": "msB4P4EWd-lS",
        "outputId": "38711ff7-8146-4608-9af8-267f70b2d303"
      },
      "outputs": [
        {
          "data": {
            "text/plain": [
              "20"
            ]
          },
          "execution_count": 4,
          "metadata": {
            "tags": []
          },
          "output_type": "execute_result"
        }
      ],
      "source": [
        "# Note that the value of the last expression in a cell is printed automatically\n",
        "a * b"
      ]
    },
    {
      "cell_type": "code",
      "execution_count": null,
      "metadata": {
        "id": "PbJxaFRd61_j"
      },
      "outputs": [],
      "source": [
        "# But you can supress this behavior with a semicolon in Jupyter notebooks\n",
        "a * b;"
      ]
    },
    {
      "cell_type": "code",
      "execution_count": null,
      "metadata": {
        "colab": {
          "base_uri": "https://localhost:8080/"
        },
        "id": "YniwQZH-d_aD",
        "outputId": "c3fe3949-b247-46c6-828e-d8f1e1a53d22"
      },
      "outputs": [
        {
          "name": "stdout",
          "output_type": "stream",
          "text": [
            "20\n"
          ]
        }
      ],
      "source": [
        "# You can also just explicitly print\n",
        "print(a * b)"
      ]
    },
    {
      "cell_type": "code",
      "execution_count": null,
      "metadata": {
        "colab": {
          "base_uri": "https://localhost:8080/"
        },
        "id": "g2fBNFroeQ3o",
        "outputId": "a711be0e-6ab6-419a-8647-ed5df9bb9eae"
      },
      "outputs": [
        {
          "name": "stdout",
          "output_type": "stream",
          "text": [
            "a is 4\n",
            "b is 5\n"
          ]
        }
      ],
      "source": [
        "# This is useful for debugging. You can print out intermediate values\n",
        "print('a is', a)\n",
        "print('b is', b)"
      ]
    },
    {
      "cell_type": "markdown",
      "metadata": {
        "id": "AaUmQWldebyr"
      },
      "source": [
        "## Types of data in Python\n",
        "\n",
        "We're going to quickly go over the major data types that we'll be using in the rest of the course. Reminder that this is not a comprehensive list."
      ]
    },
    {
      "cell_type": "code",
      "execution_count": null,
      "metadata": {
        "colab": {
          "base_uri": "https://localhost:8080/"
        },
        "id": "pqedhx8feYeG",
        "outputId": "b4fbd23d-9618-4419-cbff-179a32ab6fc7"
      },
      "outputs": [
        {
          "data": {
            "text/plain": [
              "int"
            ]
          },
          "execution_count": 8,
          "metadata": {
            "tags": []
          },
          "output_type": "execute_result"
        }
      ],
      "source": [
        "type(66)"
      ]
    },
    {
      "cell_type": "code",
      "execution_count": null,
      "metadata": {
        "colab": {
          "base_uri": "https://localhost:8080/"
        },
        "id": "M20wanLDeuaT",
        "outputId": "ce7d1681-b774-4afc-ed37-02f30f786376"
      },
      "outputs": [
        {
          "data": {
            "text/plain": [
              "float"
            ]
          },
          "execution_count": 9,
          "metadata": {
            "tags": []
          },
          "output_type": "execute_result"
        }
      ],
      "source": [
        "type(4.5)"
      ]
    },
    {
      "cell_type": "code",
      "execution_count": null,
      "metadata": {
        "colab": {
          "base_uri": "https://localhost:8080/"
        },
        "id": "DT4fIGeEevy0",
        "outputId": "7df17ac9-c0f5-4b04-b17c-858df2d93f4a"
      },
      "outputs": [
        {
          "data": {
            "text/plain": [
              "str"
            ]
          },
          "execution_count": 10,
          "metadata": {
            "tags": []
          },
          "output_type": "execute_result"
        }
      ],
      "source": [
        "type('Sandeep')"
      ]
    },
    {
      "cell_type": "code",
      "execution_count": null,
      "metadata": {
        "colab": {
          "base_uri": "https://localhost:8080/"
        },
        "id": "F6DYQg83exhy",
        "outputId": "eae9bd76-90f4-4f4c-88c8-fb9429c7eca3"
      },
      "outputs": [
        {
          "data": {
            "text/plain": [
              "str"
            ]
          },
          "execution_count": 5,
          "metadata": {},
          "output_type": "execute_result"
        }
      ],
      "source": [
        "name = 'Sandeep'\n",
        "type(name)"
      ]
    },
    {
      "cell_type": "code",
      "execution_count": null,
      "metadata": {
        "id": "9o86Qkhydi-G",
        "outputId": "cb002f47-372b-489a-e907-f59e273a2e65"
      },
      "outputs": [
        {
          "data": {
            "text/plain": [
              "int"
            ]
          },
          "execution_count": 6,
          "metadata": {},
          "output_type": "execute_result"
        }
      ],
      "source": [
        "type(a)"
      ]
    },
    {
      "cell_type": "markdown",
      "metadata": {
        "id": "furXeciye2Ll"
      },
      "source": [
        "### List\n",
        "\n",
        "This is an extremely common data type used in Python. It's exactly what it sounds like: it's an ordered collection of items."
      ]
    },
    {
      "cell_type": "code",
      "execution_count": null,
      "metadata": {
        "id": "bIPLASbUe0-q"
      },
      "outputs": [],
      "source": [
        "my_list = [1, 2, 3]"
      ]
    },
    {
      "cell_type": "code",
      "execution_count": null,
      "metadata": {
        "colab": {
          "base_uri": "https://localhost:8080/"
        },
        "id": "E_FeR4hefGNo",
        "outputId": "a88a898c-fb8c-4186-9a2f-c119251a7565"
      },
      "outputs": [
        {
          "name": "stdout",
          "output_type": "stream",
          "text": [
            "[1, 2, 3]\n"
          ]
        }
      ],
      "source": [
        "print(my_list)"
      ]
    },
    {
      "cell_type": "code",
      "execution_count": null,
      "metadata": {
        "colab": {
          "base_uri": "https://localhost:8080/"
        },
        "id": "YC8bt8OtfHcH",
        "outputId": "21a0c3a3-0dd7-4572-a30a-dfea582c5e19"
      },
      "outputs": [
        {
          "data": {
            "text/plain": [
              "list"
            ]
          },
          "execution_count": 14,
          "metadata": {
            "tags": []
          },
          "output_type": "execute_result"
        }
      ],
      "source": [
        "type(my_list)"
      ]
    },
    {
      "cell_type": "markdown",
      "metadata": {
        "id": "jka1b2-ZfOwU"
      },
      "source": [
        "One common mistake newcomers to Python will often make is to name their list \"list\". `list` is a reserved keyword in Python. If you make a variable called `list`, it will overshadow an existing builtin function of Python with the same name, which will cause problems."
      ]
    },
    {
      "cell_type": "code",
      "execution_count": null,
      "metadata": {
        "id": "olzPpzvRfJif"
      },
      "outputs": [],
      "source": [
        "# DO NOT DO THIS. \"list\" is a reserved keyword.\n",
        "# list = [1, 2, 3]"
      ]
    },
    {
      "cell_type": "code",
      "execution_count": null,
      "metadata": {
        "id": "QNCtnEciffzM"
      },
      "outputs": [],
      "source": [
        "# You can also make a list of lists\n",
        "list_of_lists = [\n",
        "  [1, 2, 3],\n",
        "  [4, 5, 6],\n",
        "  [7, 8, 9]\n",
        "]"
      ]
    },
    {
      "cell_type": "code",
      "execution_count": null,
      "metadata": {
        "colab": {
          "base_uri": "https://localhost:8080/"
        },
        "id": "2wKWvlhefvOK",
        "outputId": "c3d7cfa2-641b-403f-94dd-4c6596ec88ad"
      },
      "outputs": [
        {
          "name": "stdout",
          "output_type": "stream",
          "text": [
            "[[1, 2, 3], [4, 5, 6], [7, 8, 9]]\n"
          ]
        }
      ],
      "source": [
        "print(list_of_lists)"
      ]
    },
    {
      "cell_type": "code",
      "execution_count": null,
      "metadata": {
        "colab": {
          "base_uri": "https://localhost:8080/"
        },
        "id": "6e15rMjqfwpS",
        "outputId": "4d2b2c4a-c9f1-450f-803d-4a53be2db9d6"
      },
      "outputs": [
        {
          "data": {
            "text/plain": [
              "1"
            ]
          },
          "execution_count": 18,
          "metadata": {
            "tags": []
          },
          "output_type": "execute_result"
        }
      ],
      "source": [
        "# Reading items from a list is easy. Indexing starts at 0\n",
        "my_list[0]"
      ]
    },
    {
      "cell_type": "code",
      "execution_count": null,
      "metadata": {
        "colab": {
          "base_uri": "https://localhost:8080/"
        },
        "id": "C8_K_rRmf7uZ",
        "outputId": "0f28078e-701e-4a8d-9084-f7ba74332b33"
      },
      "outputs": [
        {
          "data": {
            "text/plain": [
              "3"
            ]
          },
          "execution_count": 19,
          "metadata": {
            "tags": []
          },
          "output_type": "execute_result"
        }
      ],
      "source": [
        "# You can also index from the right side using negative numbers\n",
        "my_list[-1]"
      ]
    },
    {
      "cell_type": "code",
      "execution_count": null,
      "metadata": {
        "colab": {
          "base_uri": "https://localhost:8080/"
        },
        "id": "DBdv8IUOgGxm",
        "outputId": "42cdb795-d108-4b47-d21d-58437e4ba85d"
      },
      "outputs": [
        {
          "data": {
            "text/plain": [
              "[4, 5, 6]"
            ]
          },
          "execution_count": 20,
          "metadata": {
            "tags": []
          },
          "output_type": "execute_result"
        }
      ],
      "source": [
        "# Read the second item using \"1\", because the first item is indexed using \"0\"\n",
        "list_of_lists[1]"
      ]
    },
    {
      "cell_type": "code",
      "execution_count": null,
      "metadata": {
        "colab": {
          "base_uri": "https://localhost:8080/"
        },
        "id": "MmHOr7pxgQC-",
        "outputId": "f94bd372-2639-41bb-e975-68906a76399e"
      },
      "outputs": [
        {
          "data": {
            "text/plain": [
              "[10, 2, 3]"
            ]
          },
          "execution_count": 21,
          "metadata": {
            "tags": []
          },
          "output_type": "execute_result"
        }
      ],
      "source": [
        "# List elements can be changed similarly too\n",
        "my_list[0] = 10\n",
        "my_list"
      ]
    },
    {
      "cell_type": "code",
      "execution_count": null,
      "metadata": {
        "colab": {
          "base_uri": "https://localhost:8080/"
        },
        "id": "dyG6xmatgZer",
        "outputId": "bc615876-08eb-4188-b782-1ca47f682372"
      },
      "outputs": [
        {
          "data": {
            "text/plain": [
              "[10, 2, 3, 4]"
            ]
          },
          "execution_count": 22,
          "metadata": {
            "tags": []
          },
          "output_type": "execute_result"
        }
      ],
      "source": [
        "# Add an item using append\n",
        "my_list.append(4)\n",
        "my_list"
      ]
    },
    {
      "cell_type": "code",
      "execution_count": null,
      "metadata": {
        "colab": {
          "base_uri": "https://localhost:8080/"
        },
        "id": "x_5fmmpvgk0z",
        "outputId": "491a02d3-7248-4fdb-b505-b1f4ee9ce73b"
      },
      "outputs": [
        {
          "name": "stdout",
          "output_type": "stream",
          "text": [
            "Help on list object:\n",
            "\n",
            "class list(object)\n",
            " |  list() -> new empty list\n",
            " |  list(iterable) -> new list initialized from iterable's items\n",
            " |  \n",
            " |  Methods defined here:\n",
            " |  \n",
            " |  __add__(self, value, /)\n",
            " |      Return self+value.\n",
            " |  \n",
            " |  __contains__(self, key, /)\n",
            " |      Return key in self.\n",
            " |  \n",
            " |  __delitem__(self, key, /)\n",
            " |      Delete self[key].\n",
            " |  \n",
            " |  __eq__(self, value, /)\n",
            " |      Return self==value.\n",
            " |  \n",
            " |  __ge__(self, value, /)\n",
            " |      Return self>=value.\n",
            " |  \n",
            " |  __getattribute__(self, name, /)\n",
            " |      Return getattr(self, name).\n",
            " |  \n",
            " |  __getitem__(...)\n",
            " |      x.__getitem__(y) <==> x[y]\n",
            " |  \n",
            " |  __gt__(self, value, /)\n",
            " |      Return self>value.\n",
            " |  \n",
            " |  __iadd__(self, value, /)\n",
            " |      Implement self+=value.\n",
            " |  \n",
            " |  __imul__(self, value, /)\n",
            " |      Implement self*=value.\n",
            " |  \n",
            " |  __init__(self, /, *args, **kwargs)\n",
            " |      Initialize self.  See help(type(self)) for accurate signature.\n",
            " |  \n",
            " |  __iter__(self, /)\n",
            " |      Implement iter(self).\n",
            " |  \n",
            " |  __le__(self, value, /)\n",
            " |      Return self<=value.\n",
            " |  \n",
            " |  __len__(self, /)\n",
            " |      Return len(self).\n",
            " |  \n",
            " |  __lt__(self, value, /)\n",
            " |      Return self<value.\n",
            " |  \n",
            " |  __mul__(self, value, /)\n",
            " |      Return self*value.\n",
            " |  \n",
            " |  __ne__(self, value, /)\n",
            " |      Return self!=value.\n",
            " |  \n",
            " |  __new__(*args, **kwargs) from builtins.type\n",
            " |      Create and return a new object.  See help(type) for accurate signature.\n",
            " |  \n",
            " |  __repr__(self, /)\n",
            " |      Return repr(self).\n",
            " |  \n",
            " |  __reversed__(...)\n",
            " |      L.__reversed__() -- return a reverse iterator over the list\n",
            " |  \n",
            " |  __rmul__(self, value, /)\n",
            " |      Return value*self.\n",
            " |  \n",
            " |  __setitem__(self, key, value, /)\n",
            " |      Set self[key] to value.\n",
            " |  \n",
            " |  __sizeof__(...)\n",
            " |      L.__sizeof__() -- size of L in memory, in bytes\n",
            " |  \n",
            " |  append(...)\n",
            " |      L.append(object) -> None -- append object to end\n",
            " |  \n",
            " |  clear(...)\n",
            " |      L.clear() -> None -- remove all items from L\n",
            " |  \n",
            " |  copy(...)\n",
            " |      L.copy() -> list -- a shallow copy of L\n",
            " |  \n",
            " |  count(...)\n",
            " |      L.count(value) -> integer -- return number of occurrences of value\n",
            " |  \n",
            " |  extend(...)\n",
            " |      L.extend(iterable) -> None -- extend list by appending elements from the iterable\n",
            " |  \n",
            " |  index(...)\n",
            " |      L.index(value, [start, [stop]]) -> integer -- return first index of value.\n",
            " |      Raises ValueError if the value is not present.\n",
            " |  \n",
            " |  insert(...)\n",
            " |      L.insert(index, object) -- insert object before index\n",
            " |  \n",
            " |  pop(...)\n",
            " |      L.pop([index]) -> item -- remove and return item at index (default last).\n",
            " |      Raises IndexError if list is empty or index is out of range.\n",
            " |  \n",
            " |  remove(...)\n",
            " |      L.remove(value) -> None -- remove first occurrence of value.\n",
            " |      Raises ValueError if the value is not present.\n",
            " |  \n",
            " |  reverse(...)\n",
            " |      L.reverse() -- reverse *IN PLACE*\n",
            " |  \n",
            " |  sort(...)\n",
            " |      L.sort(key=None, reverse=False) -> None -- stable sort *IN PLACE*\n",
            " |  \n",
            " |  ----------------------------------------------------------------------\n",
            " |  Data and other attributes defined here:\n",
            " |  \n",
            " |  __hash__ = None\n",
            "\n"
          ]
        }
      ],
      "source": [
        "# use help() to find out what you can do with something in Python\n",
        "help(my_list)"
      ]
    },
    {
      "cell_type": "code",
      "execution_count": null,
      "metadata": {
        "colab": {
          "base_uri": "https://localhost:8080/"
        },
        "id": "ohlGuNxDgrUy",
        "outputId": "6e2e7fff-1659-44ba-ecf9-914517df68f6"
      },
      "outputs": [
        {
          "data": {
            "text/plain": [
              "range(1, 4)"
            ]
          },
          "execution_count": 7,
          "metadata": {},
          "output_type": "execute_result"
        }
      ],
      "source": [
        "# Create a list containing a \"range\" of numbers using range\n",
        "range(1,4)"
      ]
    },
    {
      "cell_type": "code",
      "execution_count": null,
      "metadata": {
        "colab": {
          "base_uri": "https://localhost:8080/"
        },
        "id": "T_rziJ5Zg68m",
        "outputId": "28fc4edd-85b6-46eb-def8-75f71d8b09d5"
      },
      "outputs": [
        {
          "data": {
            "text/plain": [
              "[1, 2, 3]"
            ]
          },
          "execution_count": 8,
          "metadata": {},
          "output_type": "execute_result"
        }
      ],
      "source": [
        "# range(5) returns a \"range\" object. Convert it to a list using the \"list\" keyword\n",
        "list(range(1,4))"
      ]
    },
    {
      "cell_type": "code",
      "execution_count": null,
      "metadata": {
        "colab": {
          "base_uri": "https://localhost:8080/"
        },
        "id": "18SmMRv2hARW",
        "outputId": "8217c7f2-d599-435e-912a-29067d034f4a"
      },
      "outputs": [
        {
          "name": "stdout",
          "output_type": "stream",
          "text": [
            "Help on class range in module builtins:\n",
            "\n",
            "class range(object)\n",
            " |  range(stop) -> range object\n",
            " |  range(start, stop[, step]) -> range object\n",
            " |  \n",
            " |  Return an object that produces a sequence of integers from start (inclusive)\n",
            " |  to stop (exclusive) by step.  range(i, j) produces i, i+1, i+2, ..., j-1.\n",
            " |  start defaults to 0, and stop is omitted!  range(4) produces 0, 1, 2, 3.\n",
            " |  These are exactly the valid indices for a list of 4 elements.\n",
            " |  When step is given, it specifies the increment (or decrement).\n",
            " |  \n",
            " |  Methods defined here:\n",
            " |  \n",
            " |  __bool__(self, /)\n",
            " |      self != 0\n",
            " |  \n",
            " |  __contains__(self, key, /)\n",
            " |      Return key in self.\n",
            " |  \n",
            " |  __eq__(self, value, /)\n",
            " |      Return self==value.\n",
            " |  \n",
            " |  __ge__(self, value, /)\n",
            " |      Return self>=value.\n",
            " |  \n",
            " |  __getattribute__(self, name, /)\n",
            " |      Return getattr(self, name).\n",
            " |  \n",
            " |  __getitem__(self, key, /)\n",
            " |      Return self[key].\n",
            " |  \n",
            " |  __gt__(self, value, /)\n",
            " |      Return self>value.\n",
            " |  \n",
            " |  __hash__(self, /)\n",
            " |      Return hash(self).\n",
            " |  \n",
            " |  __iter__(self, /)\n",
            " |      Implement iter(self).\n",
            " |  \n",
            " |  __le__(self, value, /)\n",
            " |      Return self<=value.\n",
            " |  \n",
            " |  __len__(self, /)\n",
            " |      Return len(self).\n",
            " |  \n",
            " |  __lt__(self, value, /)\n",
            " |      Return self<value.\n",
            " |  \n",
            " |  __ne__(self, value, /)\n",
            " |      Return self!=value.\n",
            " |  \n",
            " |  __new__(*args, **kwargs) from builtins.type\n",
            " |      Create and return a new object.  See help(type) for accurate signature.\n",
            " |  \n",
            " |  __reduce__(...)\n",
            " |      helper for pickle\n",
            " |  \n",
            " |  __repr__(self, /)\n",
            " |      Return repr(self).\n",
            " |  \n",
            " |  __reversed__(...)\n",
            " |      Return a reverse iterator.\n",
            " |  \n",
            " |  count(...)\n",
            " |      rangeobject.count(value) -> integer -- return number of occurrences of value\n",
            " |  \n",
            " |  index(...)\n",
            " |      rangeobject.index(value, [start, [stop]]) -> integer -- return index of value.\n",
            " |      Raise ValueError if the value is not present.\n",
            " |  \n",
            " |  ----------------------------------------------------------------------\n",
            " |  Data descriptors defined here:\n",
            " |  \n",
            " |  start\n",
            " |  \n",
            " |  step\n",
            " |  \n",
            " |  stop\n",
            "\n"
          ]
        }
      ],
      "source": [
        "help(range)"
      ]
    },
    {
      "cell_type": "code",
      "execution_count": null,
      "metadata": {
        "colab": {
          "base_uri": "https://localhost:8080/"
        },
        "id": "_R4TzNYLhE29",
        "outputId": "fa91b5fd-b68c-4633-e179-7e503b5be9e2"
      },
      "outputs": [
        {
          "data": {
            "text/plain": [
              "[1, 2, 3]"
            ]
          },
          "execution_count": 10,
          "metadata": {},
          "output_type": "execute_result"
        }
      ],
      "source": [
        "list(range(1, 4))"
      ]
    },
    {
      "cell_type": "code",
      "execution_count": null,
      "metadata": {
        "colab": {
          "base_uri": "https://localhost:8080/"
        },
        "id": "knIJg67PhCkW",
        "outputId": "5542c35c-93b3-42fc-826f-34d4d310148b"
      },
      "outputs": [
        {
          "data": {
            "text/plain": [
              "[0, 10, 20, 30, 40, 50, 60, 70, 80, 90]"
            ]
          },
          "execution_count": 9,
          "metadata": {},
          "output_type": "execute_result"
        }
      ],
      "source": [
        "list(range(0, 91, 10))"
      ]
    },
    {
      "cell_type": "markdown",
      "metadata": {
        "id": "TlU5bSGsjkms"
      },
      "source": [
        "### Dictionary\n",
        "\n",
        "A dictionary (also knows as a Map in other programming languages) allows you to have key-value pairs. In the context of data visualization, dictionaries will often be used to provide configuration options."
      ]
    },
    {
      "cell_type": "code",
      "execution_count": null,
      "metadata": {
        "id": "1_OxFRT3hQ0k"
      },
      "outputs": [],
      "source": [
        "my_dict = {'key1': 'value1', 'key2': 'value2', 'key3': 100}"
      ]
    },
    {
      "cell_type": "code",
      "execution_count": null,
      "metadata": {
        "colab": {
          "base_uri": "https://localhost:8080/"
        },
        "id": "IM_btOoej_OG",
        "outputId": "bafee8d5-a868-476b-e1fb-f66e9f56cda5"
      },
      "outputs": [
        {
          "data": {
            "text/plain": [
              "{'key1': 'value1', 'key2': 'value2', 'key3': 100}"
            ]
          },
          "execution_count": 30,
          "metadata": {
            "tags": []
          },
          "output_type": "execute_result"
        }
      ],
      "source": [
        "my_dict"
      ]
    },
    {
      "cell_type": "code",
      "execution_count": null,
      "metadata": {
        "colab": {
          "base_uri": "https://localhost:8080/",
          "height": 35
        },
        "id": "r-qjqchkkAxT",
        "outputId": "13927da3-7f93-42e9-b9d6-c60a0426830b"
      },
      "outputs": [
        {
          "data": {
            "application/vnd.google.colaboratory.intrinsic+json": {
              "type": "string"
            },
            "text/plain": [
              "'value2'"
            ]
          },
          "execution_count": 31,
          "metadata": {
            "tags": []
          },
          "output_type": "execute_result"
        }
      ],
      "source": [
        "my_dict['key2']"
      ]
    },
    {
      "cell_type": "code",
      "execution_count": null,
      "metadata": {
        "colab": {
          "base_uri": "https://localhost:8080/"
        },
        "id": "D3xkRh0BkCVM",
        "outputId": "911a98ab-83a9-4dfe-ef16-94c28695162c"
      },
      "outputs": [
        {
          "data": {
            "text/plain": [
              "dict_keys(['key1', 'key2', 'key3'])"
            ]
          },
          "execution_count": 32,
          "metadata": {
            "tags": []
          },
          "output_type": "execute_result"
        }
      ],
      "source": [
        "my_dict.keys()"
      ]
    },
    {
      "cell_type": "code",
      "execution_count": null,
      "metadata": {
        "colab": {
          "base_uri": "https://localhost:8080/"
        },
        "id": "jIWkgxhkkEoL",
        "outputId": "86207381-4135-4031-b7dd-85c538a1febf"
      },
      "outputs": [
        {
          "data": {
            "text/plain": [
              "dict_values(['value1', 'value2', 100])"
            ]
          },
          "execution_count": 33,
          "metadata": {
            "tags": []
          },
          "output_type": "execute_result"
        }
      ],
      "source": [
        "my_dict.values()"
      ]
    },
    {
      "cell_type": "code",
      "execution_count": null,
      "metadata": {
        "colab": {
          "base_uri": "https://localhost:8080/"
        },
        "id": "mWmhhcHakIYa",
        "outputId": "9a0a5af9-6a43-48de-e0ca-096e01a1a790"
      },
      "outputs": [
        {
          "data": {
            "text/plain": [
              "{'key1': 'value1', 'key2': 'value2', 'key3': 'another value'}"
            ]
          },
          "execution_count": 34,
          "metadata": {
            "tags": []
          },
          "output_type": "execute_result"
        }
      ],
      "source": [
        "my_dict['key3'] = 'another value'\n",
        "my_dict"
      ]
    },
    {
      "cell_type": "markdown",
      "metadata": {
        "id": "lbYQLhFdk23P"
      },
      "source": [
        "### Boolean\n",
        "\n",
        "Python contains a `bool` type that can store \"Boolean\" values, which are one of `True` and `False` (note the Title Case)."
      ]
    },
    {
      "cell_type": "code",
      "execution_count": null,
      "metadata": {
        "colab": {
          "base_uri": "https://localhost:8080/"
        },
        "id": "uIKDuYOLlTLv",
        "outputId": "ce6a0591-92f8-4ce6-9a51-b1f7638a8f44"
      },
      "outputs": [
        {
          "data": {
            "text/plain": [
              "bool"
            ]
          },
          "execution_count": 35,
          "metadata": {
            "tags": []
          },
          "output_type": "execute_result"
        }
      ],
      "source": [
        "type(True)"
      ]
    },
    {
      "cell_type": "code",
      "execution_count": null,
      "metadata": {
        "colab": {
          "base_uri": "https://localhost:8080/"
        },
        "id": "5BpgINL_lUuh",
        "outputId": "32b0d0b5-2cd5-41bf-d0a2-bd2ab0ffe6fa"
      },
      "outputs": [
        {
          "data": {
            "text/plain": [
              "bool"
            ]
          },
          "execution_count": 36,
          "metadata": {
            "tags": []
          },
          "output_type": "execute_result"
        }
      ],
      "source": [
        "type(False)"
      ]
    },
    {
      "cell_type": "code",
      "execution_count": null,
      "metadata": {
        "colab": {
          "base_uri": "https://localhost:8080/",
          "height": 186
        },
        "id": "8BpcUc2WlWFn",
        "outputId": "de87aa49-ec3c-4753-c068-2accae587529"
      },
      "outputs": [
        {
          "ename": "NameError",
          "evalue": "ignored",
          "output_type": "error",
          "traceback": [
            "\u001b[0;31m---------------------------------------------------------------------------\u001b[0m",
            "\u001b[0;31mNameError\u001b[0m                                 Traceback (most recent call last)",
            "\u001b[0;32m<ipython-input-37-c280afbd27ba>\u001b[0m in \u001b[0;36m<module>\u001b[0;34m()\u001b[0m\n\u001b[1;32m      1\u001b[0m \u001b[0;31m# true and false are not a thing in Python. Remember the Title Case.\u001b[0m\u001b[0;34m\u001b[0m\u001b[0;34m\u001b[0m\u001b[0;34m\u001b[0m\u001b[0m\n\u001b[0;32m----> 2\u001b[0;31m \u001b[0mtype\u001b[0m\u001b[0;34m(\u001b[0m\u001b[0mtrue\u001b[0m\u001b[0;34m)\u001b[0m\u001b[0;34m\u001b[0m\u001b[0;34m\u001b[0m\u001b[0m\n\u001b[0m",
            "\u001b[0;31mNameError\u001b[0m: name 'true' is not defined"
          ]
        }
      ],
      "source": [
        "# true and false are not a thing in Python. Remember the Title Case.\n",
        "type(true)"
      ]
    },
    {
      "cell_type": "markdown",
      "metadata": {
        "id": "jjpyBTE_kOBe"
      },
      "source": [
        "### Other data types\n",
        "\n",
        "Python contains other data types such as Tuples, Sets and many more. Since those will not be directly used in the rest of the course, we'll skip over them. For a well-rounded knowledge of Python, you should definitely learn about them.\n",
        "\n",
        "The last section of the course should go over them in a bit more detail."
      ]
    },
    {
      "cell_type": "markdown",
      "metadata": {
        "id": "-2QQBBUvknJF"
      },
      "source": [
        "## Logical Operators\n",
        "\n",
        "Logical operators are used to compare expressions in Python. We'll use these in future sections to filter datasets. Let's quickly go over them:"
      ]
    },
    {
      "cell_type": "code",
      "execution_count": null,
      "metadata": {
        "colab": {
          "base_uri": "https://localhost:8080/"
        },
        "id": "ADd22imtk0KE",
        "outputId": "525b6157-60e5-475f-f148-8d0d6e787b5b"
      },
      "outputs": [
        {
          "data": {
            "text/plain": [
              "False"
            ]
          },
          "execution_count": 38,
          "metadata": {
            "tags": []
          },
          "output_type": "execute_result"
        }
      ],
      "source": [
        "1 == 2"
      ]
    },
    {
      "cell_type": "code",
      "execution_count": null,
      "metadata": {
        "colab": {
          "base_uri": "https://localhost:8080/"
        },
        "id": "Uxe6U9z9lzI7",
        "outputId": "c0cf822a-7b12-47cd-f8a8-36674cbff193"
      },
      "outputs": [
        {
          "data": {
            "text/plain": [
              "True"
            ]
          },
          "execution_count": 39,
          "metadata": {
            "tags": []
          },
          "output_type": "execute_result"
        }
      ],
      "source": [
        "1 == 1"
      ]
    },
    {
      "cell_type": "markdown",
      "metadata": {
        "id": "JON9DwJGl1tZ"
      },
      "source": [
        "Note that the expressions above return `True` and `False`, which are the Boolean types we learned about earlier. When 2 expressions are compared in Python, a bool is returned which tells us whether the comparison was successful."
      ]
    },
    {
      "cell_type": "code",
      "execution_count": null,
      "metadata": {
        "colab": {
          "base_uri": "https://localhost:8080/"
        },
        "id": "nZZNSqCLmDPA",
        "outputId": "c3ca708e-8569-4b21-b654-59b78c627c4a"
      },
      "outputs": [
        {
          "data": {
            "text/plain": [
              "True"
            ]
          },
          "execution_count": 40,
          "metadata": {
            "tags": []
          },
          "output_type": "execute_result"
        }
      ],
      "source": [
        "1 != 2"
      ]
    },
    {
      "cell_type": "code",
      "execution_count": null,
      "metadata": {
        "colab": {
          "base_uri": "https://localhost:8080/"
        },
        "id": "Vsjlr5kVmFdK",
        "outputId": "4d438dee-478e-413b-ca5b-3662dbc56bc2"
      },
      "outputs": [
        {
          "data": {
            "text/plain": [
              "True"
            ]
          },
          "execution_count": 41,
          "metadata": {
            "tags": []
          },
          "output_type": "execute_result"
        }
      ],
      "source": [
        "1 < 2"
      ]
    },
    {
      "cell_type": "code",
      "execution_count": null,
      "metadata": {
        "colab": {
          "base_uri": "https://localhost:8080/"
        },
        "id": "sUwMmM1BmGo5",
        "outputId": "fc880c42-91e0-47f5-c484-d2af5378726d"
      },
      "outputs": [
        {
          "data": {
            "text/plain": [
              "False"
            ]
          },
          "execution_count": 42,
          "metadata": {
            "tags": []
          },
          "output_type": "execute_result"
        }
      ],
      "source": [
        "1 >= 2"
      ]
    },
    {
      "cell_type": "markdown",
      "metadata": {
        "id": "gjGOAgmd1BB2"
      },
      "source": [
        "## Imports\n",
        "\n",
        "Sometimes we will need to \"bring in\" some functionality into our Python session. This process is called importing. There's a lot to importing, but here's the very high-level overview. For this overview, we'll be importing numpy, which is a Python library we're going to discuss very soon."
      ]
    },
    {
      "cell_type": "code",
      "execution_count": null,
      "metadata": {
        "id": "GqVs_Qtj1bm1"
      },
      "outputs": [],
      "source": [
        "# This is the most basic form of the import\n",
        "import numpy"
      ]
    },
    {
      "cell_type": "code",
      "execution_count": null,
      "metadata": {
        "colab": {
          "base_uri": "https://localhost:8080/"
        },
        "id": "kWQJ5Unh1fe7",
        "outputId": "0c240a89-c1ab-4eb5-b6c7-91ddafd26104"
      },
      "outputs": [
        {
          "data": {
            "text/plain": [
              "array([1, 2, 3])"
            ]
          },
          "execution_count": 44,
          "metadata": {
            "tags": []
          },
          "output_type": "execute_result"
        }
      ],
      "source": [
        "# Now we can access stuff inside the \"numpy\" variable\n",
        "numpy.array([1, 2, 3])"
      ]
    },
    {
      "cell_type": "code",
      "execution_count": null,
      "metadata": {
        "id": "_KiAw_Ko1mPh"
      },
      "outputs": [],
      "source": [
        "# Some popular libraries have conventions for importing them\n",
        "import numpy as np"
      ]
    },
    {
      "cell_type": "code",
      "execution_count": null,
      "metadata": {
        "colab": {
          "base_uri": "https://localhost:8080/"
        },
        "id": "P8cvel7e1wj4",
        "outputId": "08350701-6c24-437b-97ec-56cfb2ed05b2"
      },
      "outputs": [
        {
          "data": {
            "text/plain": [
              "array([1, 2, 3])"
            ]
          },
          "execution_count": 46,
          "metadata": {
            "tags": []
          },
          "output_type": "execute_result"
        }
      ],
      "source": [
        "# This allows us to access numpy using the variable \"np\".\n",
        "np.array([1, 2, 3])"
      ]
    },
    {
      "cell_type": "markdown",
      "metadata": {
        "id": "ss7afwgu2F9H"
      },
      "source": [
        "Try not to do this unless it's a popular and established convention. Code readability is important and conventions matter."
      ]
    },
    {
      "cell_type": "code",
      "execution_count": null,
      "metadata": {
        "colab": {
          "base_uri": "https://localhost:8080/"
        },
        "id": "Ubf0AMG3109P",
        "outputId": "7b80990a-9300-40ae-da0d-c47d2814aa16"
      },
      "outputs": [
        {
          "data": {
            "text/plain": [
              "array([1, 2, 3])"
            ]
          },
          "execution_count": 47,
          "metadata": {
            "tags": []
          },
          "output_type": "execute_result"
        }
      ],
      "source": [
        "# You can also import things from inside other modules. For example, we could\n",
        "# hypothetically import \"array\" from inside of numpy.\n",
        "from numpy import array\n",
        "\n",
        "array([1, 2, 3])"
      ]
    },
    {
      "cell_type": "markdown",
      "metadata": {
        "id": "pB_fIPMa2UIU"
      },
      "source": [
        "Later on in this course, we'll be using this `from` syntax to import a library that provides us some datasets. It will look like:\n",
        "\n",
        "```python\n",
        "from pydataset import data\n",
        "```\n",
        "\n",
        "As I mentioned earlier, there are a lot of nuances to importing that we're skipping right over. What has been covered in this section is all you'll need for this particular course."
      ]
    },
    {
      "cell_type": "markdown",
      "metadata": {
        "id": "YD0LLSBJmP3h"
      },
      "source": [
        "## Other concepts in Python\n",
        "\n",
        "Python is a featureful language. The tiny list of concepts we've covered so far doesn't begin to cover it all. We've tried to keep this refresher short and focused on the Python knowledge you're going to need in the short term.\n",
        "\n",
        "Note that we've not discussed loops, conditionals, classes or any of the built-in libraries. This course is about data visualization and we've tried to stay away from as much complexity that does not directly contribute to the topic at hand.\n",
        "\n",
        "In the real world though, you're going to encounter novel situations that we haven't covered and it would be helpful for you to learn more about Python to be able to deal with them."
      ]
    },
    {
      "cell_type": "markdown",
      "metadata": {
        "id": "DGUPgwdA5DQN"
      },
      "source": [
        "# Numpy Refresher\n",
        "\n",
        "For this course, we'll mostly interact with data through Pandas. But Pandas is built on top of NumPy, so an overview of NumPy will be useful. Again, if you're completely new to NumPy, consider working through the last section of the course first. This section is intended to merely refresh your memory on NumPy and assumes you have some prior experience.\n",
        "\n",
        "The primary datastructure provided by NumPy is called the N-Dimensional Array (a.k.a. `ndarray`). Think of it as a Python list, except that it's built for numerical computation. It's not untyped like Python's list; all elements in the `ndarray` are of the same type.\n",
        "\n",
        "On top of this datastructure, NumPy provides a whole host of utilities, some of which we'll be reviewing in this section."
      ]
    },
    {
      "cell_type": "code",
      "execution_count": 1,
      "metadata": {
        "id": "NYD_mPzZwtoJ"
      },
      "outputs": [],
      "source": [
        "# Numpy is conventionally imported like this:\n",
        "import numpy as np"
      ]
    },
    {
      "cell_type": "code",
      "execution_count": null,
      "metadata": {
        "colab": {
          "base_uri": "https://localhost:8080/"
        },
        "id": "cQW4KU8Lzarb",
        "outputId": "637fd2a6-b8a9-4ac4-c6a7-e6e7ef41f734"
      },
      "outputs": [
        {
          "data": {
            "text/plain": [
              "array([1, 2, 3])"
            ]
          },
          "execution_count": 49,
          "metadata": {
            "tags": []
          },
          "output_type": "execute_result"
        }
      ],
      "source": [
        "np_arr = np.array([1, 2, 3])\n",
        "np_arr"
      ]
    },
    {
      "cell_type": "code",
      "execution_count": null,
      "metadata": {
        "colab": {
          "base_uri": "https://localhost:8080/"
        },
        "id": "bf3Ccugbzip5",
        "outputId": "0dfa5ad7-da1f-4745-c9c9-61464486e865"
      },
      "outputs": [
        {
          "data": {
            "text/plain": [
              "numpy.ndarray"
            ]
          },
          "execution_count": 50,
          "metadata": {
            "tags": []
          },
          "output_type": "execute_result"
        }
      ],
      "source": [
        "type(np_arr)"
      ]
    },
    {
      "cell_type": "code",
      "execution_count": null,
      "metadata": {
        "colab": {
          "base_uri": "https://localhost:8080/"
        },
        "id": "T3VvYMKGzj_5",
        "outputId": "9ce648d4-df6b-4af4-d519-6cedf26c5ffb"
      },
      "outputs": [
        {
          "data": {
            "text/plain": [
              "array([ 0, 10, 20, 30, 40, 50, 60, 70, 80, 90])"
            ]
          },
          "execution_count": 13,
          "metadata": {},
          "output_type": "execute_result"
        }
      ],
      "source": [
        "# Numpy has a method similar to python's range\n",
        "np_range = np.arange(0, 91, 10)\n",
        "np_range"
      ]
    },
    {
      "cell_type": "code",
      "execution_count": null,
      "metadata": {
        "colab": {
          "base_uri": "https://localhost:8080/"
        },
        "id": "kmXQEQAKzveA",
        "outputId": "4f026335-fa19-4712-d687-b7fd5853d443"
      },
      "outputs": [
        {
          "data": {
            "text/plain": [
              "array([ 0.,  1.,  2.,  3.,  4.,  5.,  6.,  7.,  8.,  9., 10.])"
            ]
          },
          "execution_count": 52,
          "metadata": {
            "tags": []
          },
          "output_type": "execute_result"
        }
      ],
      "source": [
        "# Numpy also has a method to generally evenly spaced (linearly) array\n",
        "np_lin = np.linspace(0, 10, 11)\n",
        "np_lin"
      ]
    },
    {
      "cell_type": "code",
      "execution_count": null,
      "metadata": {
        "colab": {
          "base_uri": "https://localhost:8080/"
        },
        "id": "qRG7hy1j0AHe",
        "outputId": "b21f0e2d-02f9-48fa-f8c3-66c544393a41"
      },
      "outputs": [
        {
          "data": {
            "text/plain": [
              "array([False,  True,  True])"
            ]
          },
          "execution_count": 53,
          "metadata": {
            "tags": []
          },
          "output_type": "execute_result"
        }
      ],
      "source": [
        "# A conditional with a numpy array creates a \"boolean mask\". The mask is\n",
        "# True everywhere the condition is met and False elsewhere\n",
        "np_arr > 1"
      ]
    },
    {
      "cell_type": "code",
      "execution_count": null,
      "metadata": {
        "colab": {
          "base_uri": "https://localhost:8080/"
        },
        "id": "6cGHJpQH0Wsb",
        "outputId": "1321c9ab-5b6e-474a-d7cd-abb8276f1a48"
      },
      "outputs": [
        {
          "name": "stdout",
          "output_type": "stream",
          "text": [
            "np_arr is [1 2 3]\n",
            "mask is [False, True, True]\n"
          ]
        },
        {
          "data": {
            "text/plain": [
              "array([2, 3])"
            ]
          },
          "execution_count": 54,
          "metadata": {
            "tags": []
          },
          "output_type": "execute_result"
        }
      ],
      "source": [
        "# A subset of the rows of a Numpy Array can be selected using a boolean mask\n",
        "print('np_arr is', np_arr)\n",
        "mask = [False, True, True]\n",
        "print('mask is', mask)\n",
        "np_arr[mask]"
      ]
    },
    {
      "cell_type": "code",
      "execution_count": null,
      "metadata": {
        "colab": {
          "base_uri": "https://localhost:8080/"
        },
        "id": "kmOquznD0wBI",
        "outputId": "39cc661d-5fdf-40e4-b5dc-f8ac7437df72"
      },
      "outputs": [
        {
          "data": {
            "text/plain": [
              "array([2, 3])"
            ]
          },
          "execution_count": 55,
          "metadata": {
            "tags": []
          },
          "output_type": "execute_result"
        }
      ],
      "source": [
        "# These 2 concepts can be combined to select all items in a numpy array that\n",
        "# meet a certain condition.\n",
        "np_arr[np_arr > 1]"
      ]
    },
    {
      "cell_type": "code",
      "execution_count": null,
      "metadata": {
        "colab": {
          "base_uri": "https://localhost:8080/"
        },
        "id": "ZjhV3mXo1X8w",
        "outputId": "3eedd2ee-1eac-4e27-af0b-36132176f24b"
      },
      "outputs": [
        {
          "data": {
            "text/plain": [
              "[3, 4, 5, 3, 4, 5]"
            ]
          },
          "execution_count": 14,
          "metadata": {},
          "output_type": "execute_result"
        }
      ],
      "source": [
        "# Numpy arrays allow operations that Python lists don't\n",
        "a = [3, 4, 5]\n",
        "a * 2"
      ]
    },
    {
      "cell_type": "code",
      "execution_count": null,
      "metadata": {
        "id": "s60h2LOxdi-Q",
        "outputId": "31bdeeb8-a603-45c9-f1e6-3bcf6a058cb2"
      },
      "outputs": [
        {
          "data": {
            "text/plain": [
              "array([2, 4, 6])"
            ]
          },
          "execution_count": 16,
          "metadata": {},
          "output_type": "execute_result"
        }
      ],
      "source": [
        "np_arr = np.array([1, 2, 3])\n",
        "np_arr * 2"
      ]
    },
    {
      "cell_type": "markdown",
      "metadata": {
        "id": "Te7AU8YlJ-6h"
      },
      "source": [
        "This operation above causes each element of the NumPy array to be multiplied by 2 individually. It's called \"broadcasting\".\n",
        "\n",
        "You can even operate on two similarly sized numpy arrays:"
      ]
    },
    {
      "cell_type": "code",
      "execution_count": null,
      "metadata": {
        "colab": {
          "base_uri": "https://localhost:8080/"
        },
        "id": "sAfXOVN314Ze",
        "outputId": "f86885ca-4134-4ec7-962f-2caacacf9a18"
      },
      "outputs": [
        {
          "data": {
            "text/plain": [
              "array([2, 4, 6])"
            ]
          },
          "execution_count": 57,
          "metadata": {
            "tags": []
          },
          "output_type": "execute_result"
        }
      ],
      "source": [
        "# This will lead to element-wise additions\n",
        "np_arr + np_arr"
      ]
    },
    {
      "cell_type": "code",
      "execution_count": null,
      "metadata": {
        "id": "3ZlB4GzJdi-Q",
        "outputId": "fa4396c8-b0c1-4942-cab7-52d5686c0487"
      },
      "outputs": [
        {
          "data": {
            "text/plain": [
              "array([1, 4, 9])"
            ]
          },
          "execution_count": 17,
          "metadata": {},
          "output_type": "execute_result"
        }
      ],
      "source": [
        "np_arr * np_arr"
      ]
    },
    {
      "cell_type": "code",
      "execution_count": null,
      "metadata": {
        "id": "WIUPwgiwdi-Q",
        "outputId": "3f56ea38-11db-4893-c1eb-99a9fe307c2b"
      },
      "outputs": [
        {
          "data": {
            "text/plain": [
              "array([1, 2, 3, 4])"
            ]
          },
          "execution_count": 19,
          "metadata": {},
          "output_type": "execute_result"
        }
      ],
      "source": [
        "np_arr1 = np.array([1, 2, 3, 4])\n",
        "np_arr1"
      ]
    },
    {
      "cell_type": "code",
      "execution_count": null,
      "metadata": {
        "colab": {
          "base_uri": "https://localhost:8080/",
          "height": 186
        },
        "id": "7JhF7XZLKTlo",
        "outputId": "83bbdeeb-ef72-4ef0-d6bf-40ad498c2b12"
      },
      "outputs": [
        {
          "ename": "ValueError",
          "evalue": "operands could not be broadcast together with shapes (3,) (4,) ",
          "output_type": "error",
          "traceback": [
            "\u001b[1;31m---------------------------------------------------------------------------\u001b[0m",
            "\u001b[1;31mValueError\u001b[0m                                Traceback (most recent call last)",
            "\u001b[1;32m<ipython-input-21-784eb810d6db>\u001b[0m in \u001b[0;36m<module>\u001b[1;34m\u001b[0m\n\u001b[0;32m      1\u001b[0m \u001b[1;31m# But trying to operate on arrays of different sizes won't work\u001b[0m\u001b[1;33m\u001b[0m\u001b[1;33m\u001b[0m\u001b[1;33m\u001b[0m\u001b[0m\n\u001b[1;32m----> 2\u001b[1;33m \u001b[0mnp_arr\u001b[0m \u001b[1;33m*\u001b[0m \u001b[0mnp_arr1\u001b[0m\u001b[1;33m\u001b[0m\u001b[1;33m\u001b[0m\u001b[0m\n\u001b[0m",
            "\u001b[1;31mValueError\u001b[0m: operands could not be broadcast together with shapes (3,) (4,) "
          ]
        }
      ],
      "source": [
        "# But trying to operate on arrays of different sizes won't work\n",
        "np_arr * np_arr1"
      ]
    },
    {
      "cell_type": "markdown",
      "metadata": {
        "id": "wd5p4PtrLIc7"
      },
      "source": [
        "That's enough of a refresher on NumPy. We'll revisit some of these concepts in the context of Pandas in the next section."
      ]
    },
    {
      "cell_type": "markdown",
      "metadata": {
        "id": "5G2Cg2Cf5Gjf"
      },
      "source": [
        "# Pandas Refresher\n",
        "\n",
        "Pandas is the most common tool used in the industry for data analysis with Python. While this refresher will only focus on the parts necessary for this data visualization course, it's highly recommended that you spend some time learning Pandas.\n",
        "\n",
        "Pandas is built on top of NumPy. In addition, it also uses Matplotlib to provide some visualization capabilities (we'll see them in future sections).\n",
        "\n",
        "The first Pandas concept we'll encounter is called `Series`. A Pandas `Series` can be thought of as a 1-dimensional NumPy array with more features."
      ]
    },
    {
      "cell_type": "code",
      "execution_count": null,
      "metadata": {
        "id": "TXnzPuvAopwY"
      },
      "outputs": [],
      "source": [
        "# Pandas is conventionally imported like this\n",
        "import pandas as pd"
      ]
    },
    {
      "cell_type": "code",
      "execution_count": null,
      "metadata": {
        "colab": {
          "base_uri": "https://localhost:8080/"
        },
        "id": "1g_NT2AbmH56",
        "outputId": "ae8ec1f9-bfcb-42da-d114-623c493685d4"
      },
      "outputs": [
        {
          "data": {
            "text/plain": [
              "0    1\n",
              "1    2\n",
              "2    3\n",
              "dtype: int64"
            ]
          },
          "execution_count": 60,
          "metadata": {
            "tags": []
          },
          "output_type": "execute_result"
        }
      ],
      "source": [
        "# Let's start by creating a simple series\n",
        "simple_series = pd.Series([1, 2, 3])\n",
        "simple_series"
      ]
    },
    {
      "cell_type": "markdown",
      "metadata": {
        "id": "GUWKzTKHpSSZ"
      },
      "source": [
        "Note that the series does not look like an ordinaly NumPy array, which for reference looks like:"
      ]
    },
    {
      "cell_type": "code",
      "execution_count": null,
      "metadata": {
        "colab": {
          "base_uri": "https://localhost:8080/"
        },
        "id": "0t1Y9RbxphDt",
        "outputId": "5ee61857-9dac-4a5c-e46f-031e11edbdbb"
      },
      "outputs": [
        {
          "data": {
            "text/plain": [
              "array([1, 2, 3])"
            ]
          },
          "execution_count": 22,
          "metadata": {},
          "output_type": "execute_result"
        }
      ],
      "source": [
        "np.array([1, 2, 3])"
      ]
    },
    {
      "cell_type": "markdown",
      "metadata": {
        "id": "mNkQZyUgpzyc"
      },
      "source": [
        "Instead, the output of `simple_series` indicates that it's of \"type\" \"int64\" and that the numbers 1, 2, 3 have some sort of labels called 0, 1, 2.\n",
        "\n",
        "This is because Pandas Series have an \"index\". Think of a Series as a cross between a 1-dimensional NumPy array and a Python dictionary. The index provides labels for each entry in the Series. We can even create a more detailed series like so:"
      ]
    },
    {
      "cell_type": "code",
      "execution_count": null,
      "metadata": {
        "colab": {
          "base_uri": "https://localhost:8080/"
        },
        "id": "fqySZxrfpOiY",
        "outputId": "28409af5-0c65-4f94-c7a1-546cfcec9c80"
      },
      "outputs": [
        {
          "data": {
            "text/plain": [
              "one      1\n",
              "two      2\n",
              "three    3\n",
              "Name: numbers, dtype: int64"
            ]
          },
          "execution_count": 62,
          "metadata": {
            "tags": []
          },
          "output_type": "execute_result"
        }
      ],
      "source": [
        "detailed_series = pd.Series(data=[1, 2, 3], index=['one', 'two', 'three'],\n",
        "                            name='numbers')\n",
        "detailed_series"
      ]
    },
    {
      "cell_type": "code",
      "execution_count": null,
      "metadata": {
        "colab": {
          "base_uri": "https://localhost:8080/"
        },
        "id": "qsYNM1x0qk1m",
        "outputId": "52271b54-c711-4262-8943-7e33c10d944c"
      },
      "outputs": [
        {
          "name": "stdout",
          "output_type": "stream",
          "text": [
            "using label (loc): 1\n",
            "using position (iloc): 1\n"
          ]
        }
      ],
      "source": [
        "# We can access items from this series using both their label and their position\n",
        "# using loc and iloc respectively\n",
        "print('using label (loc):', detailed_series.loc['one'])\n",
        "print('using position (iloc):', detailed_series.iloc[0])"
      ]
    },
    {
      "cell_type": "code",
      "execution_count": null,
      "metadata": {
        "colab": {
          "base_uri": "https://localhost:8080/"
        },
        "id": "yHOWnR9Yq3gT",
        "outputId": "a738ab03-251a-4ce8-99af-5f5789970f74"
      },
      "outputs": [
        {
          "data": {
            "text/plain": [
              "one      2\n",
              "two      4\n",
              "three    6\n",
              "Name: numbers, dtype: int64"
            ]
          },
          "execution_count": 64,
          "metadata": {
            "tags": []
          },
          "output_type": "execute_result"
        }
      ],
      "source": [
        "# We can operate on Pandas series just like we could with NumPy arrays\n",
        "detailed_series * 2"
      ]
    },
    {
      "cell_type": "markdown",
      "metadata": {
        "id": "uOKCEo2Bv1Jb"
      },
      "source": [
        "Pandas has a more powerful data structure called **DataFrame** that builds on top of `pd.Series` to provide a Excel-sheet like functionality. In fact, \"Excel-sheet on steroids\" is a good way to think about DataFrames in Pandas.\n",
        "\n",
        "Let's create a simple `pd.DataFrame`"
      ]
    },
    {
      "cell_type": "code",
      "execution_count": null,
      "metadata": {
        "colab": {
          "base_uri": "https://localhost:8080/",
          "height": 137
        },
        "id": "L8ICoPrDwYRJ",
        "outputId": "d84dc563-1812-41b4-c0ad-23da6cdac1e7"
      },
      "outputs": [
        {
          "data": {
            "text/html": [
              "<div>\n",
              "<style scoped>\n",
              "    .dataframe tbody tr th:only-of-type {\n",
              "        vertical-align: middle;\n",
              "    }\n",
              "\n",
              "    .dataframe tbody tr th {\n",
              "        vertical-align: top;\n",
              "    }\n",
              "\n",
              "    .dataframe thead th {\n",
              "        text-align: right;\n",
              "    }\n",
              "</style>\n",
              "<table border=\"1\" class=\"dataframe\">\n",
              "  <thead>\n",
              "    <tr style=\"text-align: right;\">\n",
              "      <th></th>\n",
              "      <th>col1</th>\n",
              "      <th>col2</th>\n",
              "      <th>col3</th>\n",
              "    </tr>\n",
              "  </thead>\n",
              "  <tbody>\n",
              "    <tr>\n",
              "      <th>row1</th>\n",
              "      <td>1</td>\n",
              "      <td>2</td>\n",
              "      <td>3</td>\n",
              "    </tr>\n",
              "    <tr>\n",
              "      <th>row2</th>\n",
              "      <td>4</td>\n",
              "      <td>5</td>\n",
              "      <td>6</td>\n",
              "    </tr>\n",
              "    <tr>\n",
              "      <th>row3</th>\n",
              "      <td>7</td>\n",
              "      <td>8</td>\n",
              "      <td>9</td>\n",
              "    </tr>\n",
              "  </tbody>\n",
              "</table>\n",
              "</div>"
            ],
            "text/plain": [
              "      col1  col2  col3\n",
              "row1     1     2     3\n",
              "row2     4     5     6\n",
              "row3     7     8     9"
            ]
          },
          "execution_count": 65,
          "metadata": {
            "tags": []
          },
          "output_type": "execute_result"
        }
      ],
      "source": [
        "simple_df = pd.DataFrame(\n",
        "    data=[[1, 2, 3], [4, 5, 6], [7, 8, 9]],\n",
        "    index=['row1', 'row2', 'row3'],\n",
        "    columns=['col1', 'col2', 'col3'],\n",
        ")\n",
        "simple_df"
      ]
    },
    {
      "cell_type": "markdown",
      "metadata": {
        "id": "ssPbaA4Ew5c4"
      },
      "source": [
        "Note how well Jupyter notebooks can display Pandas DataFrames. Also note that the dataframe has labels for both rows and columns.\n",
        "\n",
        "You can access columns from dataframes very easily:"
      ]
    },
    {
      "cell_type": "code",
      "execution_count": null,
      "metadata": {
        "colab": {
          "base_uri": "https://localhost:8080/"
        },
        "id": "RnR9JIS-vtF-",
        "outputId": "3327eea6-c306-45d0-b755-27fd1b87e991"
      },
      "outputs": [
        {
          "data": {
            "text/plain": [
              "row1    1\n",
              "row2    4\n",
              "row3    7\n",
              "Name: col1, dtype: int64"
            ]
          },
          "execution_count": 66,
          "metadata": {
            "tags": []
          },
          "output_type": "execute_result"
        }
      ],
      "source": [
        "simple_df['col1']"
      ]
    },
    {
      "cell_type": "markdown",
      "metadata": {
        "id": "dfZ-kuHLxNSl"
      },
      "source": [
        "That should remind you of a Pandas Series. And that's because that's exactly what that is:"
      ]
    },
    {
      "cell_type": "code",
      "execution_count": null,
      "metadata": {
        "colab": {
          "base_uri": "https://localhost:8080/"
        },
        "id": "2q0qf2yuxMDS",
        "outputId": "77b3828f-e66d-4807-af82-d8923a18e586"
      },
      "outputs": [
        {
          "data": {
            "text/plain": [
              "pandas.core.series.Series"
            ]
          },
          "execution_count": 67,
          "metadata": {
            "tags": []
          },
          "output_type": "execute_result"
        }
      ],
      "source": [
        "type(simple_df['col1'])"
      ]
    },
    {
      "cell_type": "markdown",
      "metadata": {
        "id": "BjRX6r3TxTCr"
      },
      "source": [
        "You can select rows using the `.loc` and `.iloc` trick we saw above as well. And guess what? Individual rows are series too!"
      ]
    },
    {
      "cell_type": "code",
      "execution_count": null,
      "metadata": {
        "colab": {
          "base_uri": "https://localhost:8080/"
        },
        "id": "C-nWRJGTY0Hm",
        "outputId": "72a9f510-39a1-47bd-8a02-01da00c94cb1"
      },
      "outputs": [
        {
          "data": {
            "text/plain": [
              "col1    1\n",
              "col2    2\n",
              "col3    3\n",
              "Name: row1, dtype: int64"
            ]
          },
          "execution_count": 68,
          "metadata": {
            "tags": []
          },
          "output_type": "execute_result"
        }
      ],
      "source": [
        "simple_df.loc['row1']"
      ]
    },
    {
      "cell_type": "code",
      "execution_count": null,
      "metadata": {
        "colab": {
          "base_uri": "https://localhost:8080/"
        },
        "id": "J65KekmxY2aX",
        "outputId": "76d7d620-0683-49b8-be6f-93b9ba4c8e0b"
      },
      "outputs": [
        {
          "data": {
            "text/plain": [
              "col1    1\n",
              "col2    2\n",
              "col3    3\n",
              "Name: row1, dtype: int64"
            ]
          },
          "execution_count": 69,
          "metadata": {
            "tags": []
          },
          "output_type": "execute_result"
        }
      ],
      "source": [
        "simple_df.iloc[0]"
      ]
    },
    {
      "cell_type": "code",
      "execution_count": null,
      "metadata": {
        "colab": {
          "base_uri": "https://localhost:8080/"
        },
        "id": "O9B18aKczv7a",
        "outputId": "47833fc9-676f-4b8c-98a3-f5ca73c326ae"
      },
      "outputs": [
        {
          "data": {
            "text/plain": [
              "pandas.core.series.Series"
            ]
          },
          "execution_count": 70,
          "metadata": {
            "tags": []
          },
          "output_type": "execute_result"
        }
      ],
      "source": [
        "type(simple_df.loc['row1'])"
      ]
    },
    {
      "cell_type": "markdown",
      "metadata": {
        "id": "AkPYXhh_0Ja3"
      },
      "source": [
        "Note that we won't be creating dataframes like we did above in this course. For the rest of this course, we're going to be using a Python library called `pydataset` to load various datasets for us as a Pandas Dataframe.\n",
        "\n",
        "Even in your professional life, you'll rarely have to create dataframes by hand. You'll most often be importing external data.\n",
        "\n",
        "Importing data will be discussed this in the next section."
      ]
    }
  ],
  "metadata": {
    "colab": {
      "collapsed_sections": [
        "rGVhH0GJrYM2",
        "GdeOzQvNrYM_",
        "BYHqD56-rYNC",
        "gGwJ92xjrYNG"
      ],
      "provenance": [],
      "toc_visible": true,
      "include_colab_link": true
    },
    "kernelspec": {
      "display_name": "Python 3",
      "language": "python",
      "name": "python3"
    },
    "language_info": {
      "codemirror_mode": {
        "name": "ipython",
        "version": 3
      },
      "file_extension": ".py",
      "mimetype": "text/x-python",
      "name": "python",
      "nbconvert_exporter": "python",
      "pygments_lexer": "ipython3",
      "version": "3.8.5"
    }
  },
  "nbformat": 4,
  "nbformat_minor": 0
}