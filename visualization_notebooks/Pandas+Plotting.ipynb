{
  "cells": [
    {
      "cell_type": "markdown",
      "metadata": {
        "id": "view-in-github",
        "colab_type": "text"
      },
      "source": [
        "<a href=\"https://colab.research.google.com/github/tonytan4ever/visualization-for-fun/blob/main/visualization_notebooks/Pandas%2BPlotting.ipynb\" target=\"_parent\"><img src=\"https://colab.research.google.com/assets/colab-badge.svg\" alt=\"Open In Colab\"/></a>"
      ]
    },
    {
      "cell_type": "markdown",
      "metadata": {
        "id": "03VRZPx-A703"
      },
      "source": [
        "# Data Visualization Using Pandas"
      ]
    },
    {
      "cell_type": "markdown",
      "metadata": {
        "id": "xIeqxJgLA71B"
      },
      "source": [
        "# Where is my data?"
      ]
    },
    {
      "cell_type": "code",
      "execution_count": 3,
      "metadata": {
        "id": "kLEvKOcHAEOp"
      },
      "outputs": [],
      "source": [
        "import numpy as np\n",
        "import pandas as pd\n",
        "import seaborn as sns"
      ]
    },
    {
      "cell_type": "markdown",
      "metadata": {
        "id": "3lSz9TObAEOp"
      },
      "source": [
        "## 1. Importing a .csv File"
      ]
    },
    {
      "cell_type": "code",
      "execution_count": 4,
      "metadata": {
        "id": "hXdeYifpAEOp"
      },
      "outputs": [],
      "source": [
        "mc12 = pd.read_csv('/content/Two+Machines.csv')"
      ]
    },
    {
      "cell_type": "markdown",
      "metadata": {
        "id": "giK1maVpAEOp"
      },
      "source": [
        "## 2. Datsets Available in Seaborn Library"
      ]
    },
    {
      "cell_type": "code",
      "execution_count": 5,
      "metadata": {
        "colab": {
          "base_uri": "https://localhost:8080/"
        },
        "id": "I1ETsbrsAEOq",
        "outputId": "40b728b1-65be-4bc0-da40-de5ac93c607e"
      },
      "outputs": [
        {
          "output_type": "execute_result",
          "data": {
            "text/plain": [
              "['anagrams',\n",
              " 'anscombe',\n",
              " 'attention',\n",
              " 'brain_networks',\n",
              " 'car_crashes',\n",
              " 'diamonds',\n",
              " 'dots',\n",
              " 'dowjones',\n",
              " 'exercise',\n",
              " 'flights',\n",
              " 'fmri',\n",
              " 'geyser',\n",
              " 'glue',\n",
              " 'healthexp',\n",
              " 'iris',\n",
              " 'mpg',\n",
              " 'penguins',\n",
              " 'planets',\n",
              " 'seaice',\n",
              " 'taxis',\n",
              " 'tips',\n",
              " 'titanic']"
            ]
          },
          "metadata": {},
          "execution_count": 5
        }
      ],
      "source": [
        "sns.get_dataset_names()"
      ]
    },
    {
      "cell_type": "code",
      "execution_count": 6,
      "metadata": {
        "colab": {
          "base_uri": "https://localhost:8080/",
          "height": 424
        },
        "id": "Nvow2ZVFAEOq",
        "outputId": "991450cb-0d18-4a96-d213-395cfe167f3a"
      },
      "outputs": [
        {
          "output_type": "execute_result",
          "data": {
            "text/plain": [
              "     total_bill   tip     sex smoker   day    time  size\n",
              "0         16.99  1.01  Female     No   Sun  Dinner     2\n",
              "1         10.34  1.66    Male     No   Sun  Dinner     3\n",
              "2         21.01  3.50    Male     No   Sun  Dinner     3\n",
              "3         23.68  3.31    Male     No   Sun  Dinner     2\n",
              "4         24.59  3.61  Female     No   Sun  Dinner     4\n",
              "..          ...   ...     ...    ...   ...     ...   ...\n",
              "239       29.03  5.92    Male     No   Sat  Dinner     3\n",
              "240       27.18  2.00  Female    Yes   Sat  Dinner     2\n",
              "241       22.67  2.00    Male    Yes   Sat  Dinner     2\n",
              "242       17.82  1.75    Male     No   Sat  Dinner     2\n",
              "243       18.78  3.00  Female     No  Thur  Dinner     2\n",
              "\n",
              "[244 rows x 7 columns]"
            ],
            "text/html": [
              "\n",
              "  <div id=\"df-3cb52fdc-db95-411d-a7ec-f651adf8fe9f\" class=\"colab-df-container\">\n",
              "    <div>\n",
              "<style scoped>\n",
              "    .dataframe tbody tr th:only-of-type {\n",
              "        vertical-align: middle;\n",
              "    }\n",
              "\n",
              "    .dataframe tbody tr th {\n",
              "        vertical-align: top;\n",
              "    }\n",
              "\n",
              "    .dataframe thead th {\n",
              "        text-align: right;\n",
              "    }\n",
              "</style>\n",
              "<table border=\"1\" class=\"dataframe\">\n",
              "  <thead>\n",
              "    <tr style=\"text-align: right;\">\n",
              "      <th></th>\n",
              "      <th>total_bill</th>\n",
              "      <th>tip</th>\n",
              "      <th>sex</th>\n",
              "      <th>smoker</th>\n",
              "      <th>day</th>\n",
              "      <th>time</th>\n",
              "      <th>size</th>\n",
              "    </tr>\n",
              "  </thead>\n",
              "  <tbody>\n",
              "    <tr>\n",
              "      <th>0</th>\n",
              "      <td>16.99</td>\n",
              "      <td>1.01</td>\n",
              "      <td>Female</td>\n",
              "      <td>No</td>\n",
              "      <td>Sun</td>\n",
              "      <td>Dinner</td>\n",
              "      <td>2</td>\n",
              "    </tr>\n",
              "    <tr>\n",
              "      <th>1</th>\n",
              "      <td>10.34</td>\n",
              "      <td>1.66</td>\n",
              "      <td>Male</td>\n",
              "      <td>No</td>\n",
              "      <td>Sun</td>\n",
              "      <td>Dinner</td>\n",
              "      <td>3</td>\n",
              "    </tr>\n",
              "    <tr>\n",
              "      <th>2</th>\n",
              "      <td>21.01</td>\n",
              "      <td>3.50</td>\n",
              "      <td>Male</td>\n",
              "      <td>No</td>\n",
              "      <td>Sun</td>\n",
              "      <td>Dinner</td>\n",
              "      <td>3</td>\n",
              "    </tr>\n",
              "    <tr>\n",
              "      <th>3</th>\n",
              "      <td>23.68</td>\n",
              "      <td>3.31</td>\n",
              "      <td>Male</td>\n",
              "      <td>No</td>\n",
              "      <td>Sun</td>\n",
              "      <td>Dinner</td>\n",
              "      <td>2</td>\n",
              "    </tr>\n",
              "    <tr>\n",
              "      <th>4</th>\n",
              "      <td>24.59</td>\n",
              "      <td>3.61</td>\n",
              "      <td>Female</td>\n",
              "      <td>No</td>\n",
              "      <td>Sun</td>\n",
              "      <td>Dinner</td>\n",
              "      <td>4</td>\n",
              "    </tr>\n",
              "    <tr>\n",
              "      <th>...</th>\n",
              "      <td>...</td>\n",
              "      <td>...</td>\n",
              "      <td>...</td>\n",
              "      <td>...</td>\n",
              "      <td>...</td>\n",
              "      <td>...</td>\n",
              "      <td>...</td>\n",
              "    </tr>\n",
              "    <tr>\n",
              "      <th>239</th>\n",
              "      <td>29.03</td>\n",
              "      <td>5.92</td>\n",
              "      <td>Male</td>\n",
              "      <td>No</td>\n",
              "      <td>Sat</td>\n",
              "      <td>Dinner</td>\n",
              "      <td>3</td>\n",
              "    </tr>\n",
              "    <tr>\n",
              "      <th>240</th>\n",
              "      <td>27.18</td>\n",
              "      <td>2.00</td>\n",
              "      <td>Female</td>\n",
              "      <td>Yes</td>\n",
              "      <td>Sat</td>\n",
              "      <td>Dinner</td>\n",
              "      <td>2</td>\n",
              "    </tr>\n",
              "    <tr>\n",
              "      <th>241</th>\n",
              "      <td>22.67</td>\n",
              "      <td>2.00</td>\n",
              "      <td>Male</td>\n",
              "      <td>Yes</td>\n",
              "      <td>Sat</td>\n",
              "      <td>Dinner</td>\n",
              "      <td>2</td>\n",
              "    </tr>\n",
              "    <tr>\n",
              "      <th>242</th>\n",
              "      <td>17.82</td>\n",
              "      <td>1.75</td>\n",
              "      <td>Male</td>\n",
              "      <td>No</td>\n",
              "      <td>Sat</td>\n",
              "      <td>Dinner</td>\n",
              "      <td>2</td>\n",
              "    </tr>\n",
              "    <tr>\n",
              "      <th>243</th>\n",
              "      <td>18.78</td>\n",
              "      <td>3.00</td>\n",
              "      <td>Female</td>\n",
              "      <td>No</td>\n",
              "      <td>Thur</td>\n",
              "      <td>Dinner</td>\n",
              "      <td>2</td>\n",
              "    </tr>\n",
              "  </tbody>\n",
              "</table>\n",
              "<p>244 rows × 7 columns</p>\n",
              "</div>\n",
              "    <div class=\"colab-df-buttons\">\n",
              "\n",
              "  <div class=\"colab-df-container\">\n",
              "    <button class=\"colab-df-convert\" onclick=\"convertToInteractive('df-3cb52fdc-db95-411d-a7ec-f651adf8fe9f')\"\n",
              "            title=\"Convert this dataframe to an interactive table.\"\n",
              "            style=\"display:none;\">\n",
              "\n",
              "  <svg xmlns=\"http://www.w3.org/2000/svg\" height=\"24px\" viewBox=\"0 -960 960 960\">\n",
              "    <path d=\"M120-120v-720h720v720H120Zm60-500h600v-160H180v160Zm220 220h160v-160H400v160Zm0 220h160v-160H400v160ZM180-400h160v-160H180v160Zm440 0h160v-160H620v160ZM180-180h160v-160H180v160Zm440 0h160v-160H620v160Z\"/>\n",
              "  </svg>\n",
              "    </button>\n",
              "\n",
              "  <style>\n",
              "    .colab-df-container {\n",
              "      display:flex;\n",
              "      gap: 12px;\n",
              "    }\n",
              "\n",
              "    .colab-df-convert {\n",
              "      background-color: #E8F0FE;\n",
              "      border: none;\n",
              "      border-radius: 50%;\n",
              "      cursor: pointer;\n",
              "      display: none;\n",
              "      fill: #1967D2;\n",
              "      height: 32px;\n",
              "      padding: 0 0 0 0;\n",
              "      width: 32px;\n",
              "    }\n",
              "\n",
              "    .colab-df-convert:hover {\n",
              "      background-color: #E2EBFA;\n",
              "      box-shadow: 0px 1px 2px rgba(60, 64, 67, 0.3), 0px 1px 3px 1px rgba(60, 64, 67, 0.15);\n",
              "      fill: #174EA6;\n",
              "    }\n",
              "\n",
              "    .colab-df-buttons div {\n",
              "      margin-bottom: 4px;\n",
              "    }\n",
              "\n",
              "    [theme=dark] .colab-df-convert {\n",
              "      background-color: #3B4455;\n",
              "      fill: #D2E3FC;\n",
              "    }\n",
              "\n",
              "    [theme=dark] .colab-df-convert:hover {\n",
              "      background-color: #434B5C;\n",
              "      box-shadow: 0px 1px 3px 1px rgba(0, 0, 0, 0.15);\n",
              "      filter: drop-shadow(0px 1px 2px rgba(0, 0, 0, 0.3));\n",
              "      fill: #FFFFFF;\n",
              "    }\n",
              "  </style>\n",
              "\n",
              "    <script>\n",
              "      const buttonEl =\n",
              "        document.querySelector('#df-3cb52fdc-db95-411d-a7ec-f651adf8fe9f button.colab-df-convert');\n",
              "      buttonEl.style.display =\n",
              "        google.colab.kernel.accessAllowed ? 'block' : 'none';\n",
              "\n",
              "      async function convertToInteractive(key) {\n",
              "        const element = document.querySelector('#df-3cb52fdc-db95-411d-a7ec-f651adf8fe9f');\n",
              "        const dataTable =\n",
              "          await google.colab.kernel.invokeFunction('convertToInteractive',\n",
              "                                                    [key], {});\n",
              "        if (!dataTable) return;\n",
              "\n",
              "        const docLinkHtml = 'Like what you see? Visit the ' +\n",
              "          '<a target=\"_blank\" href=https://colab.research.google.com/notebooks/data_table.ipynb>data table notebook</a>'\n",
              "          + ' to learn more about interactive tables.';\n",
              "        element.innerHTML = '';\n",
              "        dataTable['output_type'] = 'display_data';\n",
              "        await google.colab.output.renderOutput(dataTable, element);\n",
              "        const docLink = document.createElement('div');\n",
              "        docLink.innerHTML = docLinkHtml;\n",
              "        element.appendChild(docLink);\n",
              "      }\n",
              "    </script>\n",
              "  </div>\n",
              "\n",
              "\n",
              "    <div id=\"df-857c6bde-d26b-4c4c-94a6-15982442a6e5\">\n",
              "      <button class=\"colab-df-quickchart\" onclick=\"quickchart('df-857c6bde-d26b-4c4c-94a6-15982442a6e5')\"\n",
              "                title=\"Suggest charts\"\n",
              "                style=\"display:none;\">\n",
              "\n",
              "<svg xmlns=\"http://www.w3.org/2000/svg\" height=\"24px\"viewBox=\"0 0 24 24\"\n",
              "     width=\"24px\">\n",
              "    <g>\n",
              "        <path d=\"M19 3H5c-1.1 0-2 .9-2 2v14c0 1.1.9 2 2 2h14c1.1 0 2-.9 2-2V5c0-1.1-.9-2-2-2zM9 17H7v-7h2v7zm4 0h-2V7h2v10zm4 0h-2v-4h2v4z\"/>\n",
              "    </g>\n",
              "</svg>\n",
              "      </button>\n",
              "\n",
              "<style>\n",
              "  .colab-df-quickchart {\n",
              "      --bg-color: #E8F0FE;\n",
              "      --fill-color: #1967D2;\n",
              "      --hover-bg-color: #E2EBFA;\n",
              "      --hover-fill-color: #174EA6;\n",
              "      --disabled-fill-color: #AAA;\n",
              "      --disabled-bg-color: #DDD;\n",
              "  }\n",
              "\n",
              "  [theme=dark] .colab-df-quickchart {\n",
              "      --bg-color: #3B4455;\n",
              "      --fill-color: #D2E3FC;\n",
              "      --hover-bg-color: #434B5C;\n",
              "      --hover-fill-color: #FFFFFF;\n",
              "      --disabled-bg-color: #3B4455;\n",
              "      --disabled-fill-color: #666;\n",
              "  }\n",
              "\n",
              "  .colab-df-quickchart {\n",
              "    background-color: var(--bg-color);\n",
              "    border: none;\n",
              "    border-radius: 50%;\n",
              "    cursor: pointer;\n",
              "    display: none;\n",
              "    fill: var(--fill-color);\n",
              "    height: 32px;\n",
              "    padding: 0;\n",
              "    width: 32px;\n",
              "  }\n",
              "\n",
              "  .colab-df-quickchart:hover {\n",
              "    background-color: var(--hover-bg-color);\n",
              "    box-shadow: 0 1px 2px rgba(60, 64, 67, 0.3), 0 1px 3px 1px rgba(60, 64, 67, 0.15);\n",
              "    fill: var(--button-hover-fill-color);\n",
              "  }\n",
              "\n",
              "  .colab-df-quickchart-complete:disabled,\n",
              "  .colab-df-quickchart-complete:disabled:hover {\n",
              "    background-color: var(--disabled-bg-color);\n",
              "    fill: var(--disabled-fill-color);\n",
              "    box-shadow: none;\n",
              "  }\n",
              "\n",
              "  .colab-df-spinner {\n",
              "    border: 2px solid var(--fill-color);\n",
              "    border-color: transparent;\n",
              "    border-bottom-color: var(--fill-color);\n",
              "    animation:\n",
              "      spin 1s steps(1) infinite;\n",
              "  }\n",
              "\n",
              "  @keyframes spin {\n",
              "    0% {\n",
              "      border-color: transparent;\n",
              "      border-bottom-color: var(--fill-color);\n",
              "      border-left-color: var(--fill-color);\n",
              "    }\n",
              "    20% {\n",
              "      border-color: transparent;\n",
              "      border-left-color: var(--fill-color);\n",
              "      border-top-color: var(--fill-color);\n",
              "    }\n",
              "    30% {\n",
              "      border-color: transparent;\n",
              "      border-left-color: var(--fill-color);\n",
              "      border-top-color: var(--fill-color);\n",
              "      border-right-color: var(--fill-color);\n",
              "    }\n",
              "    40% {\n",
              "      border-color: transparent;\n",
              "      border-right-color: var(--fill-color);\n",
              "      border-top-color: var(--fill-color);\n",
              "    }\n",
              "    60% {\n",
              "      border-color: transparent;\n",
              "      border-right-color: var(--fill-color);\n",
              "    }\n",
              "    80% {\n",
              "      border-color: transparent;\n",
              "      border-right-color: var(--fill-color);\n",
              "      border-bottom-color: var(--fill-color);\n",
              "    }\n",
              "    90% {\n",
              "      border-color: transparent;\n",
              "      border-bottom-color: var(--fill-color);\n",
              "    }\n",
              "  }\n",
              "</style>\n",
              "\n",
              "      <script>\n",
              "        async function quickchart(key) {\n",
              "          const quickchartButtonEl =\n",
              "            document.querySelector('#' + key + ' button');\n",
              "          quickchartButtonEl.disabled = true;  // To prevent multiple clicks.\n",
              "          quickchartButtonEl.classList.add('colab-df-spinner');\n",
              "          try {\n",
              "            const charts = await google.colab.kernel.invokeFunction(\n",
              "                'suggestCharts', [key], {});\n",
              "          } catch (error) {\n",
              "            console.error('Error during call to suggestCharts:', error);\n",
              "          }\n",
              "          quickchartButtonEl.classList.remove('colab-df-spinner');\n",
              "          quickchartButtonEl.classList.add('colab-df-quickchart-complete');\n",
              "        }\n",
              "        (() => {\n",
              "          let quickchartButtonEl =\n",
              "            document.querySelector('#df-857c6bde-d26b-4c4c-94a6-15982442a6e5 button');\n",
              "          quickchartButtonEl.style.display =\n",
              "            google.colab.kernel.accessAllowed ? 'block' : 'none';\n",
              "        })();\n",
              "      </script>\n",
              "    </div>\n",
              "\n",
              "    </div>\n",
              "  </div>\n"
            ],
            "application/vnd.google.colaboratory.intrinsic+json": {
              "type": "dataframe",
              "summary": "{\n  \"name\": \"sns\",\n  \"rows\": 244,\n  \"fields\": [\n    {\n      \"column\": \"total_bill\",\n      \"properties\": {\n        \"dtype\": \"number\",\n        \"std\": 8.902411954856856,\n        \"min\": 3.07,\n        \"max\": 50.81,\n        \"num_unique_values\": 229,\n        \"samples\": [\n          22.12,\n          20.23,\n          14.78\n        ],\n        \"semantic_type\": \"\",\n        \"description\": \"\"\n      }\n    },\n    {\n      \"column\": \"tip\",\n      \"properties\": {\n        \"dtype\": \"number\",\n        \"std\": 1.3836381890011826,\n        \"min\": 1.0,\n        \"max\": 10.0,\n        \"num_unique_values\": 123,\n        \"samples\": [\n          3.35,\n          1.5,\n          6.73\n        ],\n        \"semantic_type\": \"\",\n        \"description\": \"\"\n      }\n    },\n    {\n      \"column\": \"sex\",\n      \"properties\": {\n        \"dtype\": \"category\",\n        \"num_unique_values\": 2,\n        \"samples\": [\n          \"Male\",\n          \"Female\"\n        ],\n        \"semantic_type\": \"\",\n        \"description\": \"\"\n      }\n    },\n    {\n      \"column\": \"smoker\",\n      \"properties\": {\n        \"dtype\": \"category\",\n        \"num_unique_values\": 2,\n        \"samples\": [\n          \"Yes\",\n          \"No\"\n        ],\n        \"semantic_type\": \"\",\n        \"description\": \"\"\n      }\n    },\n    {\n      \"column\": \"day\",\n      \"properties\": {\n        \"dtype\": \"category\",\n        \"num_unique_values\": 4,\n        \"samples\": [\n          \"Sat\",\n          \"Fri\"\n        ],\n        \"semantic_type\": \"\",\n        \"description\": \"\"\n      }\n    },\n    {\n      \"column\": \"time\",\n      \"properties\": {\n        \"dtype\": \"category\",\n        \"num_unique_values\": 2,\n        \"samples\": [\n          \"Lunch\",\n          \"Dinner\"\n        ],\n        \"semantic_type\": \"\",\n        \"description\": \"\"\n      }\n    },\n    {\n      \"column\": \"size\",\n      \"properties\": {\n        \"dtype\": \"number\",\n        \"std\": 0,\n        \"min\": 1,\n        \"max\": 6,\n        \"num_unique_values\": 6,\n        \"samples\": [\n          2,\n          3\n        ],\n        \"semantic_type\": \"\",\n        \"description\": \"\"\n      }\n    }\n  ]\n}"
            }
          },
          "metadata": {},
          "execution_count": 6
        }
      ],
      "source": [
        "sns.load_dataset('tips')"
      ]
    },
    {
      "cell_type": "markdown",
      "metadata": {
        "id": "lbgt-ouNAEOq"
      },
      "source": [
        "## 3. Datasets in Pydataset"
      ]
    },
    {
      "cell_type": "code",
      "execution_count": 7,
      "metadata": {
        "colab": {
          "base_uri": "https://localhost:8080/"
        },
        "id": "1Rjnz7wUA71A",
        "outputId": "a8e11c92-d93f-4f85-93b5-e557c148d2dd",
        "scrolled": false
      },
      "outputs": [
        {
          "output_type": "stream",
          "name": "stdout",
          "text": [
            "Collecting pydataset\n",
            "  Downloading pydataset-0.2.0.tar.gz (15.9 MB)\n",
            "\u001b[2K     \u001b[90m━━━━━━━━━━━━━━━━━━━━━━━━━━━━━━━━━━━━━━━━\u001b[0m \u001b[32m15.9/15.9 MB\u001b[0m \u001b[31m17.5 MB/s\u001b[0m eta \u001b[36m0:00:00\u001b[0m\n",
            "\u001b[?25h  Preparing metadata (setup.py) ... \u001b[?25l\u001b[?25hdone\n",
            "Requirement already satisfied: pandas in /usr/local/lib/python3.11/dist-packages (from pydataset) (2.2.2)\n",
            "Requirement already satisfied: numpy>=1.23.2 in /usr/local/lib/python3.11/dist-packages (from pandas->pydataset) (2.0.2)\n",
            "Requirement already satisfied: python-dateutil>=2.8.2 in /usr/local/lib/python3.11/dist-packages (from pandas->pydataset) (2.9.0.post0)\n",
            "Requirement already satisfied: pytz>=2020.1 in /usr/local/lib/python3.11/dist-packages (from pandas->pydataset) (2025.2)\n",
            "Requirement already satisfied: tzdata>=2022.7 in /usr/local/lib/python3.11/dist-packages (from pandas->pydataset) (2025.2)\n",
            "Requirement already satisfied: six>=1.5 in /usr/local/lib/python3.11/dist-packages (from python-dateutil>=2.8.2->pandas->pydataset) (1.17.0)\n",
            "Building wheels for collected packages: pydataset\n",
            "  Building wheel for pydataset (setup.py) ... \u001b[?25l\u001b[?25hdone\n",
            "  Created wheel for pydataset: filename=pydataset-0.2.0-py3-none-any.whl size=15939415 sha256=5b1112b527f8ab2fc76c25979ad22866757396ba4d0bde8ecd6020675d28027b\n",
            "  Stored in directory: /root/.cache/pip/wheels/29/93/3f/af54c413cecaac292940342c61882d2a8848674175d0bb0889\n",
            "Successfully built pydataset\n",
            "Installing collected packages: pydataset\n",
            "Successfully installed pydataset-0.2.0\n"
          ]
        }
      ],
      "source": [
        "!pip install pydataset"
      ]
    },
    {
      "cell_type": "code",
      "execution_count": null,
      "metadata": {
        "id": "Tp7XLaA1A71B",
        "scrolled": true
      },
      "outputs": [],
      "source": [
        "from pydataset import data"
      ]
    },
    {
      "cell_type": "code",
      "execution_count": null,
      "metadata": {
        "id": "bNzx96mADYZF"
      },
      "outputs": [],
      "source": [
        "import pandas as pd\n",
        "pd.set_option('display.max_rows', 10)  # Change the 10 to `None` to see everything\n",
        "pd.set_option('display.max_columns', None)\n",
        "pd.set_option('display.width', None)\n",
        "pd.set_option('display.max_colwidth', None)"
      ]
    },
    {
      "cell_type": "code",
      "execution_count": null,
      "metadata": {
        "id": "EgAyXsuSA71C"
      },
      "outputs": [],
      "source": [
        "data()"
      ]
    },
    {
      "cell_type": "markdown",
      "metadata": {
        "id": "lFLWkXLJA71D"
      },
      "source": [
        "## a. Diamond - is for ever"
      ]
    },
    {
      "cell_type": "code",
      "execution_count": null,
      "metadata": {
        "id": "1wD9jCtcA71E",
        "scrolled": true
      },
      "outputs": [],
      "source": [
        "# You can search the dataset by name. If you do not know the name try something close.\n",
        "data('dimond')"
      ]
    },
    {
      "cell_type": "code",
      "execution_count": null,
      "metadata": {
        "id": "CW8xNfDKA71E"
      },
      "outputs": [],
      "source": [
        "diamond = data('Diamond')"
      ]
    },
    {
      "cell_type": "code",
      "execution_count": null,
      "metadata": {
        "id": "6WQAT1ghA71E"
      },
      "outputs": [],
      "source": [
        "diamond.head()"
      ]
    },
    {
      "cell_type": "markdown",
      "metadata": {
        "id": "3XisubTTA71F"
      },
      "source": [
        "## b. Let's Solve the Housing Problem"
      ]
    },
    {
      "cell_type": "code",
      "execution_count": null,
      "metadata": {
        "id": "rsmKEuWwA71F"
      },
      "outputs": [],
      "source": [
        "data('Housing', show_doc=True)"
      ]
    },
    {
      "cell_type": "code",
      "execution_count": null,
      "metadata": {
        "id": "aLkgiF0tA71G"
      },
      "outputs": [],
      "source": [
        "housing = data('Housing')\n",
        "housing.head()"
      ]
    },
    {
      "cell_type": "markdown",
      "metadata": {
        "id": "eN0FFdryA71G"
      },
      "source": [
        "### c. Let the river flow (Nile)"
      ]
    },
    {
      "cell_type": "code",
      "execution_count": null,
      "metadata": {
        "id": "GxakZDCLA71G"
      },
      "outputs": [],
      "source": [
        "data('Nile')"
      ]
    },
    {
      "cell_type": "markdown",
      "metadata": {
        "id": "xfnvChBcA71H"
      },
      "source": [
        "### d. Don't be a Chicken"
      ]
    },
    {
      "cell_type": "code",
      "execution_count": null,
      "metadata": {
        "id": "V2BHtqvlA71H"
      },
      "outputs": [],
      "source": [
        "data('chickwts')"
      ]
    },
    {
      "cell_type": "markdown",
      "metadata": {
        "id": "UjT8abX4A71H"
      },
      "source": [
        "### e. The Number of Breaks in Yarn during Weaving"
      ]
    },
    {
      "cell_type": "code",
      "execution_count": null,
      "metadata": {
        "id": "6gdQ2WI5A71H"
      },
      "outputs": [],
      "source": [
        "data('warpbreaks')"
      ]
    },
    {
      "cell_type": "markdown",
      "metadata": {
        "id": "CIcUw4HjA71I"
      },
      "source": [
        "### f. How to survive a crash like Titatnic?"
      ]
    },
    {
      "cell_type": "code",
      "execution_count": null,
      "metadata": {
        "id": "PtJ29pUJA71I"
      },
      "outputs": [],
      "source": [
        "data('titanic')"
      ]
    },
    {
      "cell_type": "markdown",
      "metadata": {
        "id": "QjjVm-thx1s9"
      },
      "source": [
        "# Some Anatomy First\n",
        "\n",
        "Before we get into the various APIs available to you, we need to go over the anatomy of a plot. This will help you familiarize yourself with the terminology you're likely to hear a lot in the rest of this course.\n",
        "\n",
        "Learning this terminology will make the rest of this course substantially easier.\n",
        "\n",
        "![Anatomy of a figure](https://matplotlib.org/3.3.3/_images/sphx_glr_anatomy_001.png)\n",
        "\n",
        "source: https://matplotlib.org/3.3.3/gallery/showcase/anatomy.html\n",
        "\n",
        "Here are some of the major terms you should know about:\n",
        "\n",
        "* **Figure**: This is *the whole figure*. It contains everything you see in a plot. In the picture above, the whole thing is \"the figure\".\n",
        "* **Axes**: This is what you think of as \"the plot\". Everything you see in the plot above is part of a single \"axes\" object. I know this can be confusing when you consider this with the definition of a figure. But that's because the image above consists of a figure with only one \"axes\" object. The figure below consists of 4 \"axes objects\" arranged in a 2x2 grid, but the whole thing is still just one figure:\n",
        "\n",
        "![4 axes objects](https://matplotlib.org/3.1.1/_images/sphx_glr_usage_002.png)\n",
        "\n",
        "* **Axis**: An \"axes\" object contains two (or three in the case of 3D) \"axis\" objects. These 2 terms are very similar in spelling, so it can often lead to confusion. \"Axes\" is simply the plural of \"axis\".\n",
        "\n",
        "> Go over the rest of the terms in the lecture. They are not as confusing."
      ]
    },
    {
      "cell_type": "markdown",
      "metadata": {
        "id": "3vbT4D2iXKue"
      },
      "source": [
        "# Using Pandas for plotting\n",
        "\n",
        "If you're doing any reasonably complex data manipulation, chances are that you're already using Pandas. It just so happens that Pandas already includes a very easy to use plotting API that can be used to do many of the common tasks that you might encounter.\n",
        "\n",
        "See [pandas.DataFrame.plot](https://pandas.pydata.org/pandas-docs/stable/reference/api/pandas.DataFrame.plot.html) for more details."
      ]
    },
    {
      "cell_type": "code",
      "execution_count": null,
      "metadata": {
        "id": "MoOUdrEtafXn"
      },
      "outputs": [],
      "source": [
        "import pandas as pd\n",
        "import numpy as np\n",
        "import matplotlib.pyplot as plt\n",
        "from pydataset import data"
      ]
    },
    {
      "cell_type": "markdown",
      "metadata": {
        "id": "Mkq_BT2fCvX4"
      },
      "source": [
        "For this section, we'll mostly use the housing data to learn about basic plotting."
      ]
    },
    {
      "cell_type": "code",
      "execution_count": null,
      "metadata": {
        "id": "5L6oQb9gBNWv"
      },
      "outputs": [],
      "source": [
        "housing = data('Housing')"
      ]
    },
    {
      "cell_type": "code",
      "execution_count": null,
      "metadata": {
        "id": "BJ7k9Q7eC5D4"
      },
      "outputs": [],
      "source": [
        "housing.head()"
      ]
    },
    {
      "cell_type": "markdown",
      "metadata": {
        "id": "HMH0cb0pDCj5"
      },
      "source": [
        "Take a look at the table above and familiarize yourself with the data in there."
      ]
    },
    {
      "cell_type": "code",
      "execution_count": null,
      "metadata": {
        "id": "TzSFYAlzC6kG"
      },
      "outputs": [],
      "source": [
        "# Start with the simplest possible plot\n",
        "housing.plot()"
      ]
    },
    {
      "cell_type": "markdown",
      "metadata": {
        "id": "vHOTPMK9DW5D"
      },
      "source": [
        "This plot above has no arguments, so something in Pandas has to figure it all out. In this case, it so happens that things kind of work out, but this is certainly not guaranteed.\n",
        "\n",
        "The point of the plot above is to show how simple the API is. In real life, you'll likely need to be more explicit about the details of the plot.\n",
        "\n",
        "When you don't specify anything, Pandas chooses the index of your dataframe as the X-axis. In our case, that's the increasing range of integers.\n",
        "\n",
        "The default kind of plot is called a \"line plot\", which this is. If you don't specify anything, Pandas will automatically plot every \"numerical\" column, which is what happened here.\n",
        "\n",
        "Let's simplify things to start things off. We'll only plot the price for now and add other plots later."
      ]
    },
    {
      "cell_type": "code",
      "execution_count": null,
      "metadata": {
        "id": "IaunZM7nDVzb"
      },
      "outputs": [],
      "source": [
        "# Providing a name of a dataframe column in the `y` argument helps us choose\n",
        "housing.plot(y='price')"
      ]
    },
    {
      "cell_type": "markdown",
      "metadata": {
        "id": "GpbUaVq-Jmpz"
      },
      "source": [
        "Note all that text above the plot. That's because Jupyter notebooks print the return value of the last line of the cell, before doing any fancy stuff like showing the plot. To turn that off, end the last line of the cell with a semicolon (`;`)."
      ]
    },
    {
      "cell_type": "code",
      "execution_count": null,
      "metadata": {
        "id": "ThrvRmrqdqU7"
      },
      "outputs": [],
      "source": [
        "housing.plot(y='price');"
      ]
    },
    {
      "cell_type": "markdown",
      "metadata": {
        "id": "uVtpHEZcdglN"
      },
      "source": [
        "Note that the plot isn't very useful if it's missing important stuff like a title and labels."
      ]
    },
    {
      "cell_type": "code",
      "execution_count": null,
      "metadata": {
        "id": "Z-sqC5NEeCtj"
      },
      "outputs": [],
      "source": [
        "housing.plot(\n",
        "    y='price',\n",
        "    title='Housing Prices',\n",
        "    xlabel='House index',\n",
        "    ylabel='Price',\n",
        ");"
      ]
    },
    {
      "cell_type": "code",
      "execution_count": null,
      "metadata": {
        "id": "NFcF_YghUqsK"
      },
      "outputs": [],
      "source": [
        "# You can make the plot larger using figsize. The argument to figsize is a tuple (width, height) in inches\n",
        "housing.plot(\n",
        "    y='price',\n",
        "    title='Housing Prices',\n",
        "    xlabel='House index',\n",
        "    ylabel='Price',\n",
        "    legend=False,\n",
        "    figsize=(20, 10),\n",
        ");"
      ]
    },
    {
      "cell_type": "markdown",
      "metadata": {
        "id": "ZAks4_9VW8K9"
      },
      "source": [
        "We had talked earlier about plotting multiple columns from the dataframe simultaneously. Let's do that now. Let's plot both pricing and lot-size simultaneously."
      ]
    },
    {
      "cell_type": "code",
      "execution_count": null,
      "metadata": {
        "id": "s1KsVi2KW9UI"
      },
      "outputs": [],
      "source": [
        "# The `y` parameter can also be given a list of column names\n",
        "housing.plot(\n",
        "    y=['price', 'lotsize'],\n",
        "    title='Housing Prices',\n",
        "    xlabel='House Index',\n",
        "    figsize=(20, 10),\n",
        ");"
      ]
    },
    {
      "cell_type": "markdown",
      "metadata": {
        "id": "NBb10df1XNv_"
      },
      "source": [
        "Note that I've removed the label on the Y axis. That's because we're plotting 2 quantities simultaneously that are completely different and have different scales and units.\n",
        "\n",
        "In fact, it might be better to allocate 2 separate subplots for both of these. If you recall, a `figure` can contain multiple `axes` objects. That's exactly what we're going to do here.\n"
      ]
    },
    {
      "cell_type": "code",
      "execution_count": null,
      "metadata": {
        "id": "roLa_o5-JZ88"
      },
      "outputs": [],
      "source": [
        "housing.plot(\n",
        "    y=['price', 'lotsize'],\n",
        "    title='Housing Prices and Lot Size',\n",
        "    xlabel='House Index',\n",
        "    subplots=True,\n",
        ");"
      ]
    },
    {
      "cell_type": "markdown",
      "metadata": {
        "id": "K-KOnNjXKNGa"
      },
      "source": [
        "Another thing you might want to do is to try changing the layout of these subplots. That can be done with the `layout` parameter, which is a tuple of the form `(rows, columns)`:"
      ]
    },
    {
      "cell_type": "code",
      "execution_count": null,
      "metadata": {
        "id": "BFVhLskDKDvL"
      },
      "outputs": [],
      "source": [
        "housing.plot(\n",
        "    y=['price', 'lotsize'],\n",
        "    title='Housing price vs. lot size',\n",
        "    xlabel='House Index',\n",
        "    subplots=True,\n",
        "    layout=(1, 2)\n",
        ");"
      ]
    },
    {
      "cell_type": "markdown",
      "metadata": {
        "id": "cc1Q-7WIKooj"
      },
      "source": [
        "Note that I removed the `figsize` option. That's to illustrate a situation that you might encounter from time to time when plotting subplots: labels can overlap other things and cause crowding. This situation can be fixed by using a matplotlib method called `tight_layout`.\n"
      ]
    },
    {
      "cell_type": "code",
      "execution_count": null,
      "metadata": {
        "id": "9zvfujBwKnYW"
      },
      "outputs": [],
      "source": [
        "housing.plot(\n",
        "    y=['price', 'lotsize'],\n",
        "    title='Housing price vs. lot size',\n",
        "    xlabel='House index $\\\\rightarrow$',\n",
        "    subplots=True,\n",
        "    layout=(1, 2)\n",
        ")\n",
        "plt.tight_layout()"
      ]
    },
    {
      "cell_type": "markdown",
      "metadata": {
        "id": "YR1la6D4beLi"
      },
      "source": [
        "Let's go back to using a larger figure and not needing `tight_layout`. Notice that the scales of the Y-values is completely different. It's misleading because it makes it look like both the subplots have equivalent values, when they don't.\n",
        "\n",
        "We can share the Y-axis for both the plots to essentially match the levels. The parameter needed for this is `sharey`."
      ]
    },
    {
      "cell_type": "code",
      "execution_count": null,
      "metadata": {
        "id": "oLYzIX1BK-jA",
        "scrolled": true
      },
      "outputs": [],
      "source": [
        "housing.plot(\n",
        "    y=['price', 'lotsize'],\n",
        "    title='Housing Price and Lot Size',\n",
        "    xlabel='House index',\n",
        "    subplots=True,\n",
        "    layout=(1, 2),\n",
        "    sharey=True,\n",
        ");"
      ]
    },
    {
      "cell_type": "markdown",
      "metadata": {
        "id": "-neF8qbyAEOw"
      },
      "source": [
        "## Line Plot for Nile flow"
      ]
    },
    {
      "cell_type": "code",
      "execution_count": null,
      "metadata": {
        "id": "Sig7xRScAEOw"
      },
      "outputs": [],
      "source": [
        "nile = data('Nile')"
      ]
    },
    {
      "cell_type": "code",
      "execution_count": null,
      "metadata": {
        "id": "ezGXZZeVAEOw"
      },
      "outputs": [],
      "source": [
        "nile.head()"
      ]
    },
    {
      "cell_type": "code",
      "execution_count": null,
      "metadata": {
        "id": "tNUv_uTpAEOw"
      },
      "outputs": [],
      "source": [
        "nile.plot();"
      ]
    },
    {
      "cell_type": "code",
      "execution_count": null,
      "metadata": {
        "id": "1sMwFwGgAEOw"
      },
      "outputs": [],
      "source": [
        "nile.plot(\n",
        "    x='time',\n",
        "    y='Nile',\n",
        "    xlabel='Year',\n",
        "    ylabel='Flow',\n",
        "    title = 'Flow of Nile River',\n",
        "    legend=False\n",
        "    );"
      ]
    },
    {
      "cell_type": "markdown",
      "metadata": {
        "id": "z0i0IUeEcqPW"
      },
      "source": [
        "\n",
        "# Bar plots\n",
        "\n",
        "So far we've only created line plots using the Pandas plotting interface. But creating other types of plots is just as easy. Let's plot a bar plot for the number of bedrooms across the houses.\n",
        "\n",
        "Before we get into plotting, let's do some basic data manipulation to create our data."
      ]
    },
    {
      "cell_type": "code",
      "execution_count": null,
      "metadata": {
        "id": "16XAzlfgAEOw"
      },
      "outputs": [],
      "source": [
        "import pandas as pd\n",
        "import numpy as np\n",
        "import matplotlib.pyplot as plt\n",
        "from pydataset import data"
      ]
    },
    {
      "cell_type": "code",
      "execution_count": null,
      "metadata": {
        "scrolled": true,
        "id": "WBwasJwvAEOx"
      },
      "outputs": [],
      "source": [
        "housing = data('Housing')\n",
        "housing.head()"
      ]
    },
    {
      "cell_type": "code",
      "execution_count": null,
      "metadata": {
        "id": "S49yCs_WK-Tm"
      },
      "outputs": [],
      "source": [
        "bedroom_counts = housing.groupby('bedrooms')['bedrooms'].count()\n",
        "bedroom_counts"
      ]
    },
    {
      "cell_type": "code",
      "execution_count": null,
      "metadata": {
        "id": "LQMdVV-El-Fb"
      },
      "outputs": [],
      "source": [
        "bedroom_counts.plot(\n",
        "        kind='bar',\n",
        "        title='Bedroom Count',\n",
        "        xlabel='Number of Bedrooms',\n",
        "        ylabel='Count');"
      ]
    },
    {
      "cell_type": "markdown",
      "metadata": {
        "id": "pVNwGTYNmanr"
      },
      "source": [
        "That's it! It's that simple.\n",
        "\n",
        "# Box and whisker plots\n",
        "\n",
        "What if we wanted to know about house prices for various bedroom sizes? We can use a box-and-whisker plot just as easily. While there is a `kind='box'` option available with the usual `.plot(...)` method, there is an even better method available directly on the `.boxplot(...)` method."
      ]
    },
    {
      "cell_type": "code",
      "execution_count": null,
      "metadata": {
        "id": "H0hmaIgJAEOx"
      },
      "outputs": [],
      "source": [
        "import pandas as pd\n",
        "import numpy as np\n",
        "import matplotlib.pyplot as plt\n",
        "from pydataset import data"
      ]
    },
    {
      "cell_type": "code",
      "execution_count": null,
      "metadata": {
        "scrolled": true,
        "id": "F4AJafMOAEOx"
      },
      "outputs": [],
      "source": [
        "housing = data('Housing')\n",
        "housing.head()"
      ]
    },
    {
      "cell_type": "code",
      "execution_count": null,
      "metadata": {
        "scrolled": true,
        "id": "-Iv9v--BAEOx"
      },
      "outputs": [],
      "source": [
        "housing.plot(\n",
        "    y='price',\n",
        "    kind='box');"
      ]
    },
    {
      "cell_type": "code",
      "execution_count": null,
      "metadata": {
        "id": "hqoAH80XAEOx"
      },
      "outputs": [],
      "source": [
        "housing.plot(\n",
        "    y=['price', 'lotsize'],\n",
        "    by='bedrooms',\n",
        "    kind='box');"
      ]
    },
    {
      "cell_type": "code",
      "execution_count": null,
      "metadata": {
        "id": "PJqJ_853nbxh"
      },
      "outputs": [],
      "source": [
        "housing.boxplot(\n",
        "    by='bedrooms',\n",
        "    column='price',\n",
        "    grid=False,\n",
        ");"
      ]
    },
    {
      "cell_type": "markdown",
      "metadata": {
        "id": "SrhqYy1lqpkX"
      },
      "source": [
        "# Histogram\n",
        "### Plotting a histogram of prices\n",
        "\n",
        "There's similar functionality available for plotting histograms. Note the additional use of `bins`, which splits the data into `20` bins."
      ]
    },
    {
      "cell_type": "code",
      "execution_count": null,
      "metadata": {
        "id": "cxsb3GH7AEOx"
      },
      "outputs": [],
      "source": [
        "import pandas as pd\n",
        "import numpy as np\n",
        "import matplotlib.pyplot as plt\n",
        "from pydataset import data"
      ]
    },
    {
      "cell_type": "code",
      "execution_count": null,
      "metadata": {
        "scrolled": true,
        "id": "9F7hbTUPAEOx"
      },
      "outputs": [],
      "source": [
        "housing = data('Housing')\n",
        "housing.head()"
      ]
    },
    {
      "cell_type": "code",
      "execution_count": null,
      "metadata": {
        "id": "dQ0i99CTAEOx"
      },
      "outputs": [],
      "source": [
        "housing.plot(\n",
        "    y='price',\n",
        "    kind='hist');"
      ]
    },
    {
      "cell_type": "code",
      "execution_count": null,
      "metadata": {
        "id": "qI7VHgQaAEOx"
      },
      "outputs": [],
      "source": [
        "housing.plot(\n",
        "    y='price',\n",
        "    kind='hist',\n",
        "    bins=20,\n",
        ");"
      ]
    },
    {
      "cell_type": "markdown",
      "metadata": {
        "id": "5ZY03o90rxz6"
      },
      "source": [
        "# Plotting KDE or density plot"
      ]
    },
    {
      "cell_type": "code",
      "execution_count": null,
      "metadata": {
        "id": "Uyx8t3uTr3AR",
        "scrolled": true
      },
      "outputs": [],
      "source": [
        "housing.plot(\n",
        "  y='price',\n",
        "  kind='kde',\n",
        ");"
      ]
    },
    {
      "cell_type": "code",
      "execution_count": null,
      "metadata": {
        "id": "knKYqteeAEOy"
      },
      "outputs": [],
      "source": [
        "housing.plot(\n",
        "    y='price',\n",
        "    kind='kde',\n",
        "    xlim=(0,250000)\n",
        "    );"
      ]
    },
    {
      "cell_type": "markdown",
      "metadata": {
        "id": "5uCg0evnsnrl"
      },
      "source": [
        "# Scatter plot\n",
        "\n",
        "If your objective is to look at the correlation between the lot-size and the price, a scatter plot should help a lot."
      ]
    },
    {
      "cell_type": "code",
      "execution_count": null,
      "metadata": {
        "id": "bmLlQ8CiAEOy"
      },
      "outputs": [],
      "source": [
        "import pandas as pd\n",
        "import numpy as np\n",
        "import matplotlib.pyplot as plt\n",
        "from pydataset import data"
      ]
    },
    {
      "cell_type": "code",
      "execution_count": null,
      "metadata": {
        "scrolled": true,
        "id": "FNOv7-z3AEOy"
      },
      "outputs": [],
      "source": [
        "housing = data('Housing')\n",
        "housing.head()"
      ]
    },
    {
      "cell_type": "code",
      "execution_count": null,
      "metadata": {
        "id": "1Po3iW9Lsbqf"
      },
      "outputs": [],
      "source": [
        "housing.plot(\n",
        "  x='lotsize',\n",
        "  y='price',\n",
        "  kind='scatter',\n",
        ");"
      ]
    },
    {
      "cell_type": "markdown",
      "metadata": {
        "id": "2dyVrgRExkz-"
      },
      "source": [
        "# Pie Charts\n",
        "\n",
        "In general, pie charts are not a good way to communicate relative ratios. But they are quite common. And if you wanted to make one, Pandas makes that easy too.\n",
        "\n",
        "Let's say you wanted to plot a pie chart for the number of stories."
      ]
    },
    {
      "cell_type": "code",
      "execution_count": null,
      "metadata": {
        "id": "8WO3wbNBAEOy"
      },
      "outputs": [],
      "source": [
        "import pandas as pd\n",
        "import numpy as np\n",
        "import matplotlib.pyplot as plt\n",
        "from pydataset import data"
      ]
    },
    {
      "cell_type": "code",
      "execution_count": null,
      "metadata": {
        "scrolled": true,
        "id": "mK4HpTyLAEOy"
      },
      "outputs": [],
      "source": [
        "housing = data('Housing')\n",
        "housing.head()"
      ]
    },
    {
      "cell_type": "code",
      "execution_count": null,
      "metadata": {
        "id": "m7Ipo8zC3jjE"
      },
      "outputs": [],
      "source": [
        "story_counts = housing['stories'].value_counts()\n",
        "story_counts"
      ]
    },
    {
      "cell_type": "code",
      "execution_count": null,
      "metadata": {
        "id": "IQ3NqtrByBF2"
      },
      "outputs": [],
      "source": [
        "story_counts.plot(\n",
        "    kind='pie',\n",
        "    title='Number of St'\n",
        ");"
      ]
    },
    {
      "cell_type": "markdown",
      "metadata": {
        "id": "ynr_qehDvYo4"
      },
      "source": [
        "The wide-array of plots you can generate using just this interface provided by Pandas is impressive. And given how easy it is to use, you should consider this as one of your first options when deciding which data visualization tools to use.\n",
        "\n",
        "Unfortunately, as you use this interface for your day-to-day data visualization needs, you will encounter its shortcomings. It turns out that this Pandas feature is built on top of another library called Matplotlib, which is the topic of the next section. You'll need to use this when you encounter situations where this Pandas interface alone cannot help you."
      ]
    }
  ],
  "metadata": {
    "colab": {
      "provenance": [],
      "toc_visible": true,
      "include_colab_link": true
    },
    "kernelspec": {
      "display_name": "Python 3",
      "language": "python",
      "name": "python3"
    },
    "language_info": {
      "codemirror_mode": {
        "name": "ipython",
        "version": 3
      },
      "file_extension": ".py",
      "mimetype": "text/x-python",
      "name": "python",
      "nbconvert_exporter": "python",
      "pygments_lexer": "ipython3",
      "version": "3.8.5"
    }
  },
  "nbformat": 4,
  "nbformat_minor": 0
}